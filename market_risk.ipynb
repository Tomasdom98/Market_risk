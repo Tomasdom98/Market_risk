{
 "cells": [
  {
   "cell_type": "markdown",
   "id": "da439a4a-8bba-4871-933a-f3d6e333b9c4",
   "metadata": {},
   "source": [
    "# ✅  〰️  **Examen Final Riesgo de Mercado**  〰️  ✅ \n",
    "### Analítica de Finanzas📊 \n",
    "#### Universidad Adolfo Ibañez\n",
    "-------------------------------\n",
    "#### Profesora Paula Margaretic\n",
    "#### Tercer Trimestre 2022\n",
    "-------------------------------\n",
    "\n",
    "#### **Integrantes**\n",
    "\n",
    "👉 Matias Mandiola\n",
    "\n",
    "👉 Luis Chadwick"
   ]
  },
  {
   "cell_type": "markdown",
   "id": "0144792c-fa1a-4a3a-9110-edd7d4311e75",
   "metadata": {},
   "source": [
    "## a)"
   ]
  },
  {
   "cell_type": "code",
   "execution_count": 302,
   "id": "1408333e-ae25-4b5a-ae7a-d78e64bcbe61",
   "metadata": {},
   "outputs": [],
   "source": [
    "import pandas as pd\n",
    "import numpy as np\n",
    "from matplotlib import pyplot as plt\n",
    "import seaborn as sns\n",
    "from scipy.stats import norm\n",
    "import pandas_datareader.data as wb"
   ]
  },
  {
   "cell_type": "code",
   "execution_count": 212,
   "id": "97ff8a6b-9c45-4b40-a5c1-04e915f4e4ef",
   "metadata": {},
   "outputs": [],
   "source": [
    "df_2004 = pd.read_csv('./Adjusted.Prices.2004.csv')"
   ]
  },
  {
   "cell_type": "code",
   "execution_count": 213,
   "id": "0bd21f3d-afe7-45eb-902f-34d1ebf59c80",
   "metadata": {},
   "outputs": [],
   "source": [
    "df_2007 = pd.read_csv('./Adjusted.Prices.2007.csv')"
   ]
  },
  {
   "cell_type": "code",
   "execution_count": 214,
   "id": "fcf95935-f973-474d-b981-f5a9549119ef",
   "metadata": {},
   "outputs": [
    {
     "data": {
      "text/html": [
       "<div>\n",
       "<style scoped>\n",
       "    .dataframe tbody tr th:only-of-type {\n",
       "        vertical-align: middle;\n",
       "    }\n",
       "\n",
       "    .dataframe tbody tr th {\n",
       "        vertical-align: top;\n",
       "    }\n",
       "\n",
       "    .dataframe thead th {\n",
       "        text-align: right;\n",
       "    }\n",
       "</style>\n",
       "<table border=\"1\" class=\"dataframe\">\n",
       "  <thead>\n",
       "    <tr style=\"text-align: right;\">\n",
       "      <th></th>\n",
       "      <th>Unnamed: 0</th>\n",
       "      <th>FTSE100</th>\n",
       "      <th>CAC40</th>\n",
       "      <th>DAX</th>\n",
       "    </tr>\n",
       "  </thead>\n",
       "  <tbody>\n",
       "    <tr>\n",
       "      <th>0</th>\n",
       "      <td>2004-07-22</td>\n",
       "      <td>4306.299805</td>\n",
       "      <td>3572.840088</td>\n",
       "      <td>3801.050049</td>\n",
       "    </tr>\n",
       "    <tr>\n",
       "      <th>1</th>\n",
       "      <td>2004-07-23</td>\n",
       "      <td>4326.299805</td>\n",
       "      <td>3567.290039</td>\n",
       "      <td>3797.330078</td>\n",
       "    </tr>\n",
       "    <tr>\n",
       "      <th>2</th>\n",
       "      <td>2004-07-26</td>\n",
       "      <td>4287.000000</td>\n",
       "      <td>3532.610107</td>\n",
       "      <td>3752.590088</td>\n",
       "    </tr>\n",
       "    <tr>\n",
       "      <th>3</th>\n",
       "      <td>2004-07-27</td>\n",
       "      <td>4324.899902</td>\n",
       "      <td>3565.100098</td>\n",
       "      <td>3814.080078</td>\n",
       "    </tr>\n",
       "    <tr>\n",
       "      <th>4</th>\n",
       "      <td>2004-07-28</td>\n",
       "      <td>4356.299805</td>\n",
       "      <td>3575.919922</td>\n",
       "      <td>3807.209961</td>\n",
       "    </tr>\n",
       "    <tr>\n",
       "      <th>...</th>\n",
       "      <td>...</td>\n",
       "      <td>...</td>\n",
       "      <td>...</td>\n",
       "      <td>...</td>\n",
       "    </tr>\n",
       "    <tr>\n",
       "      <th>360</th>\n",
       "      <td>2005-12-08</td>\n",
       "      <td>5531.100098</td>\n",
       "      <td>4669.930176</td>\n",
       "      <td>5286.750000</td>\n",
       "    </tr>\n",
       "    <tr>\n",
       "      <th>361</th>\n",
       "      <td>2005-12-09</td>\n",
       "      <td>5517.399902</td>\n",
       "      <td>4661.009766</td>\n",
       "      <td>5282.129883</td>\n",
       "    </tr>\n",
       "    <tr>\n",
       "      <th>362</th>\n",
       "      <td>2005-12-12</td>\n",
       "      <td>5501.500000</td>\n",
       "      <td>4673.129883</td>\n",
       "      <td>5301.209961</td>\n",
       "    </tr>\n",
       "    <tr>\n",
       "      <th>363</th>\n",
       "      <td>2005-12-13</td>\n",
       "      <td>5507.200195</td>\n",
       "      <td>4693.399902</td>\n",
       "      <td>5310.279785</td>\n",
       "    </tr>\n",
       "    <tr>\n",
       "      <th>364</th>\n",
       "      <td>2005-12-14</td>\n",
       "      <td>5521.100098</td>\n",
       "      <td>4674.850098</td>\n",
       "      <td>5286.759766</td>\n",
       "    </tr>\n",
       "  </tbody>\n",
       "</table>\n",
       "<p>365 rows × 4 columns</p>\n",
       "</div>"
      ],
      "text/plain": [
       "     Unnamed: 0      FTSE100        CAC40          DAX\n",
       "0    2004-07-22  4306.299805  3572.840088  3801.050049\n",
       "1    2004-07-23  4326.299805  3567.290039  3797.330078\n",
       "2    2004-07-26  4287.000000  3532.610107  3752.590088\n",
       "3    2004-07-27  4324.899902  3565.100098  3814.080078\n",
       "4    2004-07-28  4356.299805  3575.919922  3807.209961\n",
       "..          ...          ...          ...          ...\n",
       "360  2005-12-08  5531.100098  4669.930176  5286.750000\n",
       "361  2005-12-09  5517.399902  4661.009766  5282.129883\n",
       "362  2005-12-12  5501.500000  4673.129883  5301.209961\n",
       "363  2005-12-13  5507.200195  4693.399902  5310.279785\n",
       "364  2005-12-14  5521.100098  4674.850098  5286.759766\n",
       "\n",
       "[365 rows x 4 columns]"
      ]
     },
     "execution_count": 214,
     "metadata": {},
     "output_type": "execute_result"
    }
   ],
   "source": [
    "df_2004"
   ]
  },
  {
   "cell_type": "markdown",
   "id": "fecb1ca9-7dba-413e-aa23-dfdce1f31b5a",
   "metadata": {},
   "source": [
    "- Ordenamos el dataframe y le damos una fecha de indice"
   ]
  },
  {
   "cell_type": "code",
   "execution_count": 215,
   "id": "3fa1e550-fc37-4471-94a1-ca53109c13a0",
   "metadata": {},
   "outputs": [
    {
     "data": {
      "text/html": [
       "<div>\n",
       "<style scoped>\n",
       "    .dataframe tbody tr th:only-of-type {\n",
       "        vertical-align: middle;\n",
       "    }\n",
       "\n",
       "    .dataframe tbody tr th {\n",
       "        vertical-align: top;\n",
       "    }\n",
       "\n",
       "    .dataframe thead th {\n",
       "        text-align: right;\n",
       "    }\n",
       "</style>\n",
       "<table border=\"1\" class=\"dataframe\">\n",
       "  <thead>\n",
       "    <tr style=\"text-align: right;\">\n",
       "      <th></th>\n",
       "      <th>FTSE100</th>\n",
       "      <th>CAC40</th>\n",
       "      <th>DAX</th>\n",
       "    </tr>\n",
       "    <tr>\n",
       "      <th>Date</th>\n",
       "      <th></th>\n",
       "      <th></th>\n",
       "      <th></th>\n",
       "    </tr>\n",
       "  </thead>\n",
       "  <tbody>\n",
       "    <tr>\n",
       "      <th>2004-07-22</th>\n",
       "      <td>4306.299805</td>\n",
       "      <td>3572.840088</td>\n",
       "      <td>3801.050049</td>\n",
       "    </tr>\n",
       "    <tr>\n",
       "      <th>2004-07-23</th>\n",
       "      <td>4326.299805</td>\n",
       "      <td>3567.290039</td>\n",
       "      <td>3797.330078</td>\n",
       "    </tr>\n",
       "    <tr>\n",
       "      <th>2004-07-26</th>\n",
       "      <td>4287.000000</td>\n",
       "      <td>3532.610107</td>\n",
       "      <td>3752.590088</td>\n",
       "    </tr>\n",
       "    <tr>\n",
       "      <th>2004-07-27</th>\n",
       "      <td>4324.899902</td>\n",
       "      <td>3565.100098</td>\n",
       "      <td>3814.080078</td>\n",
       "    </tr>\n",
       "    <tr>\n",
       "      <th>2004-07-28</th>\n",
       "      <td>4356.299805</td>\n",
       "      <td>3575.919922</td>\n",
       "      <td>3807.209961</td>\n",
       "    </tr>\n",
       "    <tr>\n",
       "      <th>...</th>\n",
       "      <td>...</td>\n",
       "      <td>...</td>\n",
       "      <td>...</td>\n",
       "    </tr>\n",
       "    <tr>\n",
       "      <th>2005-12-08</th>\n",
       "      <td>5531.100098</td>\n",
       "      <td>4669.930176</td>\n",
       "      <td>5286.750000</td>\n",
       "    </tr>\n",
       "    <tr>\n",
       "      <th>2005-12-09</th>\n",
       "      <td>5517.399902</td>\n",
       "      <td>4661.009766</td>\n",
       "      <td>5282.129883</td>\n",
       "    </tr>\n",
       "    <tr>\n",
       "      <th>2005-12-12</th>\n",
       "      <td>5501.500000</td>\n",
       "      <td>4673.129883</td>\n",
       "      <td>5301.209961</td>\n",
       "    </tr>\n",
       "    <tr>\n",
       "      <th>2005-12-13</th>\n",
       "      <td>5507.200195</td>\n",
       "      <td>4693.399902</td>\n",
       "      <td>5310.279785</td>\n",
       "    </tr>\n",
       "    <tr>\n",
       "      <th>2005-12-14</th>\n",
       "      <td>5521.100098</td>\n",
       "      <td>4674.850098</td>\n",
       "      <td>5286.759766</td>\n",
       "    </tr>\n",
       "  </tbody>\n",
       "</table>\n",
       "<p>365 rows × 3 columns</p>\n",
       "</div>"
      ],
      "text/plain": [
       "                FTSE100        CAC40          DAX\n",
       "Date                                             \n",
       "2004-07-22  4306.299805  3572.840088  3801.050049\n",
       "2004-07-23  4326.299805  3567.290039  3797.330078\n",
       "2004-07-26  4287.000000  3532.610107  3752.590088\n",
       "2004-07-27  4324.899902  3565.100098  3814.080078\n",
       "2004-07-28  4356.299805  3575.919922  3807.209961\n",
       "...                 ...          ...          ...\n",
       "2005-12-08  5531.100098  4669.930176  5286.750000\n",
       "2005-12-09  5517.399902  4661.009766  5282.129883\n",
       "2005-12-12  5501.500000  4673.129883  5301.209961\n",
       "2005-12-13  5507.200195  4693.399902  5310.279785\n",
       "2005-12-14  5521.100098  4674.850098  5286.759766\n",
       "\n",
       "[365 rows x 3 columns]"
      ]
     },
     "execution_count": 215,
     "metadata": {},
     "output_type": "execute_result"
    }
   ],
   "source": [
    "df = df_2004.rename(columns = {'Unnamed: 0':'Date'})\n",
    "dfi = df.set_index('Date')\n",
    "dfi"
   ]
  },
  {
   "cell_type": "markdown",
   "id": "bdc46f60-1d2c-4aff-a5af-d5a4b379828b",
   "metadata": {},
   "source": [
    "### Calculo del Retorno de la Inversión"
   ]
  },
  {
   "cell_type": "markdown",
   "id": "c067e34a-b42b-40d2-9d61-531ac3ca157b",
   "metadata": {},
   "source": [
    "#### Retanbilidad Lineal"
   ]
  },
  {
   "cell_type": "code",
   "execution_count": 216,
   "id": "56f2efc6-a199-4cf5-abd0-aad5b983ce39",
   "metadata": {},
   "outputs": [],
   "source": [
    "def calcular_retornos(dfi):\n",
    "    return dfi.pct_change()"
   ]
  },
  {
   "cell_type": "code",
   "execution_count": 217,
   "id": "fc62d27c-7b20-457d-b946-7e5168adbe7c",
   "metadata": {},
   "outputs": [
    {
     "data": {
      "text/plain": [
       "FTSE100    0.254235\n",
       "CAC40      0.278473\n",
       "DAX        0.341559\n",
       "dtype: float64"
      ]
     },
     "execution_count": 217,
     "metadata": {},
     "output_type": "execute_result"
    }
   ],
   "source": [
    "retornos = calcular_retornos(dfi)\n",
    "retornos.dropna()\n",
    "retornos.sum()"
   ]
  },
  {
   "cell_type": "code",
   "execution_count": 218,
   "id": "e97062bb-c177-43a1-94e1-9beef503c61f",
   "metadata": {},
   "outputs": [
    {
     "data": {
      "text/html": [
       "<div>\n",
       "<style scoped>\n",
       "    .dataframe tbody tr th:only-of-type {\n",
       "        vertical-align: middle;\n",
       "    }\n",
       "\n",
       "    .dataframe tbody tr th {\n",
       "        vertical-align: top;\n",
       "    }\n",
       "\n",
       "    .dataframe thead th {\n",
       "        text-align: right;\n",
       "    }\n",
       "</style>\n",
       "<table border=\"1\" class=\"dataframe\">\n",
       "  <thead>\n",
       "    <tr style=\"text-align: right;\">\n",
       "      <th></th>\n",
       "      <th>FTSE100</th>\n",
       "      <th>CAC40</th>\n",
       "      <th>DAX</th>\n",
       "    </tr>\n",
       "    <tr>\n",
       "      <th>Date</th>\n",
       "      <th></th>\n",
       "      <th></th>\n",
       "      <th></th>\n",
       "    </tr>\n",
       "  </thead>\n",
       "  <tbody>\n",
       "    <tr>\n",
       "      <th>2004-07-22</th>\n",
       "      <td>NaN</td>\n",
       "      <td>NaN</td>\n",
       "      <td>NaN</td>\n",
       "    </tr>\n",
       "    <tr>\n",
       "      <th>2004-07-23</th>\n",
       "      <td>0.004644</td>\n",
       "      <td>-0.001553</td>\n",
       "      <td>-0.000979</td>\n",
       "    </tr>\n",
       "    <tr>\n",
       "      <th>2004-07-26</th>\n",
       "      <td>-0.009084</td>\n",
       "      <td>-0.009722</td>\n",
       "      <td>-0.011782</td>\n",
       "    </tr>\n",
       "    <tr>\n",
       "      <th>2004-07-27</th>\n",
       "      <td>0.008841</td>\n",
       "      <td>0.009197</td>\n",
       "      <td>0.016386</td>\n",
       "    </tr>\n",
       "    <tr>\n",
       "      <th>2004-07-28</th>\n",
       "      <td>0.007260</td>\n",
       "      <td>0.003035</td>\n",
       "      <td>-0.001801</td>\n",
       "    </tr>\n",
       "    <tr>\n",
       "      <th>...</th>\n",
       "      <td>...</td>\n",
       "      <td>...</td>\n",
       "      <td>...</td>\n",
       "    </tr>\n",
       "    <tr>\n",
       "      <th>2005-12-08</th>\n",
       "      <td>0.000416</td>\n",
       "      <td>0.002006</td>\n",
       "      <td>0.003797</td>\n",
       "    </tr>\n",
       "    <tr>\n",
       "      <th>2005-12-09</th>\n",
       "      <td>-0.002477</td>\n",
       "      <td>-0.001910</td>\n",
       "      <td>-0.000874</td>\n",
       "    </tr>\n",
       "    <tr>\n",
       "      <th>2005-12-12</th>\n",
       "      <td>-0.002882</td>\n",
       "      <td>0.002600</td>\n",
       "      <td>0.003612</td>\n",
       "    </tr>\n",
       "    <tr>\n",
       "      <th>2005-12-13</th>\n",
       "      <td>0.001036</td>\n",
       "      <td>0.004338</td>\n",
       "      <td>0.001711</td>\n",
       "    </tr>\n",
       "    <tr>\n",
       "      <th>2005-12-14</th>\n",
       "      <td>0.002524</td>\n",
       "      <td>-0.003952</td>\n",
       "      <td>-0.004429</td>\n",
       "    </tr>\n",
       "  </tbody>\n",
       "</table>\n",
       "<p>365 rows × 3 columns</p>\n",
       "</div>"
      ],
      "text/plain": [
       "             FTSE100     CAC40       DAX\n",
       "Date                                    \n",
       "2004-07-22       NaN       NaN       NaN\n",
       "2004-07-23  0.004644 -0.001553 -0.000979\n",
       "2004-07-26 -0.009084 -0.009722 -0.011782\n",
       "2004-07-27  0.008841  0.009197  0.016386\n",
       "2004-07-28  0.007260  0.003035 -0.001801\n",
       "...              ...       ...       ...\n",
       "2005-12-08  0.000416  0.002006  0.003797\n",
       "2005-12-09 -0.002477 -0.001910 -0.000874\n",
       "2005-12-12 -0.002882  0.002600  0.003612\n",
       "2005-12-13  0.001036  0.004338  0.001711\n",
       "2005-12-14  0.002524 -0.003952 -0.004429\n",
       "\n",
       "[365 rows x 3 columns]"
      ]
     },
     "execution_count": 218,
     "metadata": {},
     "output_type": "execute_result"
    }
   ],
   "source": [
    "retornos"
   ]
  },
  {
   "cell_type": "markdown",
   "id": "774b360b-870a-4fc9-8dfe-ad0bc5c0ced8",
   "metadata": {},
   "source": [
    "### Rentabilidad Logaritmica"
   ]
  },
  {
   "cell_type": "code",
   "execution_count": 219,
   "id": "790f1a5c-3ba6-4c5f-8a1d-20eeffe2000b",
   "metadata": {},
   "outputs": [],
   "source": [
    "def retorno_log(dfi):\n",
    "  return np.log(dfi) - np.log(dfi.shift(1))"
   ]
  },
  {
   "cell_type": "code",
   "execution_count": 220,
   "id": "030b169d-cd24-4fd2-879d-25febc2857a0",
   "metadata": {},
   "outputs": [
    {
     "data": {
      "text/plain": [
       "FTSE100    0.231673\n",
       "CAC40      0.268018\n",
       "DAX        0.323559\n",
       "dtype: float64"
      ]
     },
     "execution_count": 220,
     "metadata": {},
     "output_type": "execute_result"
    }
   ],
   "source": [
    "log_retornos = retorno_log(dfi)\n",
    "log_retornos.dropna()\n",
    "log_retornos.sum()"
   ]
  },
  {
   "cell_type": "code",
   "execution_count": 221,
   "id": "e4ccc7a2-73bc-4423-99ef-6989cc0ec367",
   "metadata": {},
   "outputs": [
    {
     "data": {
      "text/plain": [
       "0.27441645279685467"
      ]
     },
     "execution_count": 221,
     "metadata": {},
     "output_type": "execute_result"
    }
   ],
   "source": [
    "log_retornos.sum().mean()"
   ]
  },
  {
   "cell_type": "markdown",
   "id": "67bf9c65-cd70-44cc-bba2-76bd8a7c2d8d",
   "metadata": {},
   "source": [
    "### Calculo de retornos medios logaritmicos"
   ]
  },
  {
   "cell_type": "code",
   "execution_count": 222,
   "id": "6460850e-863a-4f5a-9f8e-898807c62b11",
   "metadata": {},
   "outputs": [
    {
     "data": {
      "text/html": [
       "<div>\n",
       "<style scoped>\n",
       "    .dataframe tbody tr th:only-of-type {\n",
       "        vertical-align: middle;\n",
       "    }\n",
       "\n",
       "    .dataframe tbody tr th {\n",
       "        vertical-align: top;\n",
       "    }\n",
       "\n",
       "    .dataframe thead th {\n",
       "        text-align: right;\n",
       "    }\n",
       "</style>\n",
       "<table border=\"1\" class=\"dataframe\">\n",
       "  <thead>\n",
       "    <tr style=\"text-align: right;\">\n",
       "      <th></th>\n",
       "      <th>FTSE100</th>\n",
       "      <th>CAC40</th>\n",
       "      <th>DAX</th>\n",
       "    </tr>\n",
       "    <tr>\n",
       "      <th>Date</th>\n",
       "      <th></th>\n",
       "      <th></th>\n",
       "      <th></th>\n",
       "    </tr>\n",
       "  </thead>\n",
       "  <tbody>\n",
       "    <tr>\n",
       "      <th>2004-07-22</th>\n",
       "      <td>NaN</td>\n",
       "      <td>NaN</td>\n",
       "      <td>NaN</td>\n",
       "    </tr>\n",
       "    <tr>\n",
       "      <th>2004-07-23</th>\n",
       "      <td>0.004634</td>\n",
       "      <td>-0.001555</td>\n",
       "      <td>-0.000979</td>\n",
       "    </tr>\n",
       "    <tr>\n",
       "      <th>2004-07-26</th>\n",
       "      <td>-0.009125</td>\n",
       "      <td>-0.009769</td>\n",
       "      <td>-0.011852</td>\n",
       "    </tr>\n",
       "    <tr>\n",
       "      <th>2004-07-27</th>\n",
       "      <td>0.008802</td>\n",
       "      <td>0.009155</td>\n",
       "      <td>0.016253</td>\n",
       "    </tr>\n",
       "    <tr>\n",
       "      <th>2004-07-28</th>\n",
       "      <td>0.007234</td>\n",
       "      <td>0.003030</td>\n",
       "      <td>-0.001803</td>\n",
       "    </tr>\n",
       "    <tr>\n",
       "      <th>...</th>\n",
       "      <td>...</td>\n",
       "      <td>...</td>\n",
       "      <td>...</td>\n",
       "    </tr>\n",
       "    <tr>\n",
       "      <th>2005-12-08</th>\n",
       "      <td>0.000416</td>\n",
       "      <td>0.002004</td>\n",
       "      <td>0.003790</td>\n",
       "    </tr>\n",
       "    <tr>\n",
       "      <th>2005-12-09</th>\n",
       "      <td>-0.002480</td>\n",
       "      <td>-0.001912</td>\n",
       "      <td>-0.000874</td>\n",
       "    </tr>\n",
       "    <tr>\n",
       "      <th>2005-12-12</th>\n",
       "      <td>-0.002886</td>\n",
       "      <td>0.002597</td>\n",
       "      <td>0.003606</td>\n",
       "    </tr>\n",
       "    <tr>\n",
       "      <th>2005-12-13</th>\n",
       "      <td>0.001036</td>\n",
       "      <td>0.004328</td>\n",
       "      <td>0.001709</td>\n",
       "    </tr>\n",
       "    <tr>\n",
       "      <th>2005-12-14</th>\n",
       "      <td>0.002521</td>\n",
       "      <td>-0.003960</td>\n",
       "      <td>-0.004439</td>\n",
       "    </tr>\n",
       "  </tbody>\n",
       "</table>\n",
       "<p>365 rows × 3 columns</p>\n",
       "</div>"
      ],
      "text/plain": [
       "             FTSE100     CAC40       DAX\n",
       "Date                                    \n",
       "2004-07-22       NaN       NaN       NaN\n",
       "2004-07-23  0.004634 -0.001555 -0.000979\n",
       "2004-07-26 -0.009125 -0.009769 -0.011852\n",
       "2004-07-27  0.008802  0.009155  0.016253\n",
       "2004-07-28  0.007234  0.003030 -0.001803\n",
       "...              ...       ...       ...\n",
       "2005-12-08  0.000416  0.002004  0.003790\n",
       "2005-12-09 -0.002480 -0.001912 -0.000874\n",
       "2005-12-12 -0.002886  0.002597  0.003606\n",
       "2005-12-13  0.001036  0.004328  0.001709\n",
       "2005-12-14  0.002521 -0.003960 -0.004439\n",
       "\n",
       "[365 rows x 3 columns]"
      ]
     },
     "execution_count": 222,
     "metadata": {},
     "output_type": "execute_result"
    }
   ],
   "source": [
    "log_retono=np.log(dfi/dfi.shift(1))\n",
    "log_retono"
   ]
  },
  {
   "cell_type": "code",
   "execution_count": 223,
   "id": "b12609db-72af-40f6-83af-c75875a94c9f",
   "metadata": {},
   "outputs": [
    {
     "data": {
      "text/plain": [
       "FTSE100    0.166432\n",
       "CAC40      0.185608\n",
       "DAX        0.226582\n",
       "dtype: float64"
      ]
     },
     "execution_count": 223,
     "metadata": {},
     "output_type": "execute_result"
    }
   ],
   "source": [
    "log_retono.mean()*250"
   ]
  },
  {
   "cell_type": "code",
   "execution_count": 224,
   "id": "a6bd5eba-7fa6-40a7-b27d-8f19fc9bb56e",
   "metadata": {},
   "outputs": [
    {
     "data": {
      "text/html": [
       "<div>\n",
       "<style scoped>\n",
       "    .dataframe tbody tr th:only-of-type {\n",
       "        vertical-align: middle;\n",
       "    }\n",
       "\n",
       "    .dataframe tbody tr th {\n",
       "        vertical-align: top;\n",
       "    }\n",
       "\n",
       "    .dataframe thead th {\n",
       "        text-align: right;\n",
       "    }\n",
       "</style>\n",
       "<table border=\"1\" class=\"dataframe\">\n",
       "  <thead>\n",
       "    <tr style=\"text-align: right;\">\n",
       "      <th></th>\n",
       "      <th>FTSE100</th>\n",
       "      <th>CAC40</th>\n",
       "      <th>DAX</th>\n",
       "    </tr>\n",
       "  </thead>\n",
       "  <tbody>\n",
       "    <tr>\n",
       "      <th>FTSE100</th>\n",
       "      <td>0.007925</td>\n",
       "      <td>0.008808</td>\n",
       "      <td>0.009058</td>\n",
       "    </tr>\n",
       "    <tr>\n",
       "      <th>CAC40</th>\n",
       "      <td>0.008808</td>\n",
       "      <td>0.013239</td>\n",
       "      <td>0.013467</td>\n",
       "    </tr>\n",
       "    <tr>\n",
       "      <th>DAX</th>\n",
       "      <td>0.009058</td>\n",
       "      <td>0.013467</td>\n",
       "      <td>0.016062</td>\n",
       "    </tr>\n",
       "  </tbody>\n",
       "</table>\n",
       "</div>"
      ],
      "text/plain": [
       "          FTSE100     CAC40       DAX\n",
       "FTSE100  0.007925  0.008808  0.009058\n",
       "CAC40    0.008808  0.013239  0.013467\n",
       "DAX      0.009058  0.013467  0.016062"
      ]
     },
     "execution_count": 224,
     "metadata": {},
     "output_type": "execute_result"
    }
   ],
   "source": [
    "log_retono.cov()*250"
   ]
  },
  {
   "cell_type": "markdown",
   "id": "ba10cafd-0f6e-4c27-8fd8-672521644878",
   "metadata": {},
   "source": [
    "### Visualizacion de los precios"
   ]
  },
  {
   "cell_type": "code",
   "execution_count": 225,
   "id": "38e4be3f-63ac-4495-b1d6-a06f397285d6",
   "metadata": {},
   "outputs": [
    {
     "data": {
      "text/plain": [
       "<AxesSubplot:xlabel='Date'>"
      ]
     },
     "execution_count": 225,
     "metadata": {},
     "output_type": "execute_result"
    },
    {
     "data": {
      "image/png": "[encoded data removed]",
      "text/plain": [
       "<Figure size 864x432 with 1 Axes>"
      ]
     },
     "metadata": {
      "needs_background": "light"
     },
     "output_type": "display_data"
    }
   ],
   "source": [
    "dfi.plot(figsize=(12,6))"
   ]
  },
  {
   "cell_type": "code",
   "execution_count": 226,
   "id": "ffd145e4-f07e-4d8b-b173-fe2b95a0a460",
   "metadata": {},
   "outputs": [
    {
     "data": {
      "image/png": "[encoded data removed]",
      "text/plain": [
       "<Figure size 1080x432 with 1 Axes>"
      ]
     },
     "metadata": {
      "needs_background": "light"
     },
     "output_type": "display_data"
    }
   ],
   "source": [
    "plt.figure(figsize=(15,6)) \n",
    "\n",
    "for i in dfi.columns.values: #Iteramos sobre el data frame y graficamos cada precio de las acciones\n",
    "    \n",
    "    plt.plot( dfi[i],  label=i)\n",
    "plt.title('Precio de las Acciones')\n",
    "\n",
    "plt.xlabel('Fecha',fontsize=18)\n",
    "plt.ylabel('Precio en USD',fontsize=18)\n",
    "plt.legend(dfi.columns.values, loc='upper left') #Para descibir los elementos del grafico con simbologia\n",
    "\n",
    "plt.savefig('plotprecios.png', dpi=300, bbox_inches='tight') #Opcional: En caso de que queramos guardar la imagen para un posterior uso o analisis\n",
    "\n",
    "plt.show()"
   ]
  },
  {
   "cell_type": "markdown",
   "id": "465b2e05-ba57-4caf-9fe1-bce4dc680a7c",
   "metadata": {},
   "source": [
    "# B)"
   ]
  },
  {
   "cell_type": "markdown",
   "id": "83c02d67-bd7e-4431-bdb5-b5e58f352162",
   "metadata": {},
   "source": [
    "### VaR"
   ]
  },
  {
   "cell_type": "code",
   "execution_count": 227,
   "id": "96ba58a0-5eb7-4b88-9a3d-fc273c361c5f",
   "metadata": {},
   "outputs": [
    {
     "data": {
      "text/html": [
       "<div>\n",
       "<style scoped>\n",
       "    .dataframe tbody tr th:only-of-type {\n",
       "        vertical-align: middle;\n",
       "    }\n",
       "\n",
       "    .dataframe tbody tr th {\n",
       "        vertical-align: top;\n",
       "    }\n",
       "\n",
       "    .dataframe thead th {\n",
       "        text-align: right;\n",
       "    }\n",
       "</style>\n",
       "<table border=\"1\" class=\"dataframe\">\n",
       "  <thead>\n",
       "    <tr style=\"text-align: right;\">\n",
       "      <th></th>\n",
       "      <th>FTSE100</th>\n",
       "      <th>CAC40</th>\n",
       "      <th>DAX</th>\n",
       "    </tr>\n",
       "  </thead>\n",
       "  <tbody>\n",
       "    <tr>\n",
       "      <th>FTSE100</th>\n",
       "      <td>1.000000</td>\n",
       "      <td>0.983515</td>\n",
       "      <td>0.982655</td>\n",
       "    </tr>\n",
       "    <tr>\n",
       "      <th>CAC40</th>\n",
       "      <td>0.983515</td>\n",
       "      <td>1.000000</td>\n",
       "      <td>0.988154</td>\n",
       "    </tr>\n",
       "    <tr>\n",
       "      <th>DAX</th>\n",
       "      <td>0.982655</td>\n",
       "      <td>0.988154</td>\n",
       "      <td>1.000000</td>\n",
       "    </tr>\n",
       "  </tbody>\n",
       "</table>\n",
       "</div>"
      ],
      "text/plain": [
       "          FTSE100     CAC40       DAX\n",
       "FTSE100  1.000000  0.983515  0.982655\n",
       "CAC40    0.983515  1.000000  0.988154\n",
       "DAX      0.982655  0.988154  1.000000"
      ]
     },
     "execution_count": 227,
     "metadata": {},
     "output_type": "execute_result"
    }
   ],
   "source": [
    "dfi.corr()"
   ]
  },
  {
   "cell_type": "code",
   "execution_count": 228,
   "id": "9fa273b6-c9a7-4889-8c82-8859c9906b4c",
   "metadata": {},
   "outputs": [
    {
     "data": {
      "text/plain": [
       "<AxesSubplot:>"
      ]
     },
     "execution_count": 228,
     "metadata": {},
     "output_type": "execute_result"
    },
    {
     "data": {
      "image/png": "[encoded data removed]",
      "text/plain": [
       "<Figure size 720x504 with 2 Axes>"
      ]
     },
     "metadata": {
      "needs_background": "light"
     },
     "output_type": "display_data"
    }
   ],
   "source": [
    "returns = dfi.pct_change() \n",
    "fig, ax = plt.subplots(figsize = (10, 7))\n",
    "sns.heatmap(log_retono.corr(),annot=True,cmap='OrRd')"
   ]
  },
  {
   "cell_type": "code",
   "execution_count": 229,
   "id": "58aa6261-1f1f-46b6-85ce-d6a1eebf2e80",
   "metadata": {},
   "outputs": [],
   "source": [
    "pesos = np.array([.33,.33,.33])  #Pesos iguales"
   ]
  },
  {
   "cell_type": "code",
   "execution_count": 230,
   "id": "25d30be2-1fc6-4427-b664-d00aeb155818",
   "metadata": {},
   "outputs": [],
   "source": [
    "portfolio_mean = returns.mean().dot(pesos)\n",
    "portfolio_stdev = np.sqrt(pesos.T.dot(log_retono.cov()).dot(pesos))"
   ]
  },
  {
   "cell_type": "markdown",
   "id": "e438edbe-0184-49de-8cad-3a0a52b1adbb",
   "metadata": {},
   "source": [
    "### VaR con un nivel de confianza de 95% "
   ]
  },
  {
   "cell_type": "code",
   "execution_count": 231,
   "id": "9655602e-89d0-4cc1-adec-ebc00661b46e",
   "metadata": {},
   "outputs": [
    {
     "name": "stdout",
     "output_type": "stream",
     "text": [
      "\n",
      "La pérdida máxima de tu cartera inicial de 1000 usd con un nivel de confianza del 95.0% y para los siguientes 252 días es de:\n",
      "\n",
      "A 1 días, VaR(95.0%) = 10.06   Portfolio : 1000.79\n",
      "A 2 días, VaR(95.0%) = 14.22   Portfolio : 1001.59\n",
      "A 3 días, VaR(95.0%) = 17.42   Portfolio : 1002.38\n",
      "A 4 días, VaR(95.0%) = 20.12   Portfolio : 1003.17\n",
      "A 5 días, VaR(95.0%) = 22.49   Portfolio : 1003.97\n",
      "A 6 días, VaR(95.0%) = 24.64   Portfolio : 1004.77\n",
      "A 7 días, VaR(95.0%) = 26.61   Portfolio : 1005.56\n",
      "A 8 días, VaR(95.0%) = 28.45   Portfolio : 1006.36\n",
      "A 9 días, VaR(95.0%) = 30.17   Portfolio : 1007.16\n",
      "A 10 días, VaR(95.0%) = 31.8   Portfolio : 1007.95\n",
      "A 11 días, VaR(95.0%) = 33.36   Portfolio : 1008.75\n",
      "A 12 días, VaR(95.0%) = 34.84   Portfolio : 1009.55\n",
      "A 13 días, VaR(95.0%) = 36.26   Portfolio : 1010.35\n",
      "A 14 días, VaR(95.0%) = 37.63   Portfolio : 1011.15\n",
      "A 15 días, VaR(95.0%) = 38.95   Portfolio : 1011.96\n",
      "A 16 días, VaR(95.0%) = 40.23   Portfolio : 1012.76\n",
      "A 17 días, VaR(95.0%) = 41.47   Portfolio : 1013.56\n",
      "A 18 días, VaR(95.0%) = 42.67   Portfolio : 1014.36\n",
      "A 19 días, VaR(95.0%) = 43.84   Portfolio : 1015.17\n",
      "A 20 días, VaR(95.0%) = 44.98   Portfolio : 1015.97\n",
      "A 21 días, VaR(95.0%) = 46.09   Portfolio : 1016.78\n",
      "A 22 días, VaR(95.0%) = 47.17   Portfolio : 1017.58\n",
      "A 23 días, VaR(95.0%) = 48.23   Portfolio : 1018.39\n",
      "A 24 días, VaR(95.0%) = 49.27   Portfolio : 1019.2\n",
      "A 25 días, VaR(95.0%) = 50.29   Portfolio : 1020.0\n",
      "A 26 días, VaR(95.0%) = 51.28   Portfolio : 1020.81\n",
      "A 27 días, VaR(95.0%) = 52.26   Portfolio : 1021.62\n",
      "A 28 días, VaR(95.0%) = 53.22   Portfolio : 1022.43\n",
      "A 29 días, VaR(95.0%) = 54.16   Portfolio : 1023.24\n",
      "A 30 días, VaR(95.0%) = 55.09   Portfolio : 1024.05\n",
      "A 31 días, VaR(95.0%) = 56.0   Portfolio : 1024.87\n",
      "A 32 días, VaR(95.0%) = 56.89   Portfolio : 1025.68\n",
      "A 33 días, VaR(95.0%) = 57.78   Portfolio : 1026.49\n",
      "A 34 días, VaR(95.0%) = 58.65   Portfolio : 1027.3\n",
      "A 35 días, VaR(95.0%) = 59.5   Portfolio : 1028.12\n",
      "A 36 días, VaR(95.0%) = 60.35   Portfolio : 1028.93\n",
      "A 37 días, VaR(95.0%) = 61.18   Portfolio : 1029.75\n",
      "A 38 días, VaR(95.0%) = 62.0   Portfolio : 1030.56\n",
      "A 39 días, VaR(95.0%) = 62.81   Portfolio : 1031.38\n",
      "A 40 días, VaR(95.0%) = 63.61   Portfolio : 1032.2\n",
      "A 41 días, VaR(95.0%) = 64.4   Portfolio : 1033.02\n",
      "A 42 días, VaR(95.0%) = 65.18   Portfolio : 1033.84\n",
      "A 43 días, VaR(95.0%) = 65.95   Portfolio : 1034.66\n",
      "A 44 días, VaR(95.0%) = 66.71   Portfolio : 1035.48\n",
      "A 45 días, VaR(95.0%) = 67.47   Portfolio : 1036.3\n",
      "A 46 días, VaR(95.0%) = 68.21   Portfolio : 1037.12\n",
      "A 47 días, VaR(95.0%) = 68.95   Portfolio : 1037.94\n",
      "A 48 días, VaR(95.0%) = 69.68   Portfolio : 1038.76\n",
      "A 49 días, VaR(95.0%) = 70.4   Portfolio : 1039.59\n",
      "A 50 días, VaR(95.0%) = 71.12   Portfolio : 1040.41\n",
      "A 51 días, VaR(95.0%) = 71.83   Portfolio : 1041.23\n",
      "A 52 días, VaR(95.0%) = 72.53   Portfolio : 1042.06\n",
      "A 53 días, VaR(95.0%) = 73.22   Portfolio : 1042.89\n",
      "A 54 días, VaR(95.0%) = 73.91   Portfolio : 1043.71\n",
      "A 55 días, VaR(95.0%) = 74.59   Portfolio : 1044.54\n",
      "A 56 días, VaR(95.0%) = 75.26   Portfolio : 1045.37\n",
      "A 57 días, VaR(95.0%) = 75.93   Portfolio : 1046.2\n",
      "A 58 días, VaR(95.0%) = 76.6   Portfolio : 1047.03\n",
      "A 59 días, VaR(95.0%) = 77.25   Portfolio : 1047.85\n",
      "A 60 días, VaR(95.0%) = 77.91   Portfolio : 1048.69\n",
      "A 61 días, VaR(95.0%) = 78.55   Portfolio : 1049.52\n",
      "A 62 días, VaR(95.0%) = 79.19   Portfolio : 1050.35\n",
      "A 63 días, VaR(95.0%) = 79.83   Portfolio : 1051.18\n",
      "A 64 días, VaR(95.0%) = 80.46   Portfolio : 1052.01\n",
      "A 65 días, VaR(95.0%) = 81.09   Portfolio : 1052.85\n",
      "A 66 días, VaR(95.0%) = 81.71   Portfolio : 1053.68\n",
      "A 67 días, VaR(95.0%) = 82.32   Portfolio : 1054.52\n",
      "A 68 días, VaR(95.0%) = 82.94   Portfolio : 1055.35\n",
      "A 69 días, VaR(95.0%) = 83.54   Portfolio : 1056.19\n",
      "A 70 días, VaR(95.0%) = 84.15   Portfolio : 1057.03\n",
      "A 71 días, VaR(95.0%) = 84.75   Portfolio : 1057.86\n",
      "A 72 días, VaR(95.0%) = 85.34   Portfolio : 1058.7\n",
      "A 73 días, VaR(95.0%) = 85.93   Portfolio : 1059.54\n",
      "A 74 días, VaR(95.0%) = 86.52   Portfolio : 1060.38\n",
      "A 75 días, VaR(95.0%) = 87.1   Portfolio : 1061.22\n",
      "A 76 días, VaR(95.0%) = 87.68   Portfolio : 1062.06\n",
      "A 77 días, VaR(95.0%) = 88.25   Portfolio : 1062.91\n",
      "A 78 días, VaR(95.0%) = 88.83   Portfolio : 1063.75\n",
      "A 79 días, VaR(95.0%) = 89.39   Portfolio : 1064.59\n",
      "A 80 días, VaR(95.0%) = 89.96   Portfolio : 1065.44\n",
      "A 81 días, VaR(95.0%) = 90.52   Portfolio : 1066.28\n",
      "A 82 días, VaR(95.0%) = 91.07   Portfolio : 1067.12\n",
      "A 83 días, VaR(95.0%) = 91.63   Portfolio : 1067.97\n",
      "A 84 días, VaR(95.0%) = 92.18   Portfolio : 1068.82\n",
      "A 85 días, VaR(95.0%) = 92.73   Portfolio : 1069.66\n",
      "A 86 días, VaR(95.0%) = 93.27   Portfolio : 1070.51\n",
      "A 87 días, VaR(95.0%) = 93.81   Portfolio : 1071.36\n",
      "A 88 días, VaR(95.0%) = 94.35   Portfolio : 1072.21\n",
      "A 89 días, VaR(95.0%) = 94.88   Portfolio : 1073.06\n",
      "A 90 días, VaR(95.0%) = 95.41   Portfolio : 1073.91\n",
      "A 91 días, VaR(95.0%) = 95.94   Portfolio : 1074.76\n",
      "A 92 días, VaR(95.0%) = 96.47   Portfolio : 1075.61\n",
      "A 93 días, VaR(95.0%) = 96.99   Portfolio : 1076.47\n",
      "A 94 días, VaR(95.0%) = 97.51   Portfolio : 1077.32\n",
      "A 95 días, VaR(95.0%) = 98.03   Portfolio : 1078.17\n",
      "A 96 días, VaR(95.0%) = 98.54   Portfolio : 1079.03\n",
      "A 97 días, VaR(95.0%) = 99.06   Portfolio : 1079.88\n",
      "A 98 días, VaR(95.0%) = 99.56   Portfolio : 1080.74\n",
      "A 99 días, VaR(95.0%) = 100.07   Portfolio : 1081.6\n",
      "A 100 días, VaR(95.0%) = 100.58   Portfolio : 1082.45\n",
      "A 101 días, VaR(95.0%) = 101.08   Portfolio : 1083.31\n",
      "A 102 días, VaR(95.0%) = 101.58   Portfolio : 1084.17\n",
      "A 103 días, VaR(95.0%) = 102.07   Portfolio : 1085.03\n",
      "A 104 días, VaR(95.0%) = 102.57   Portfolio : 1085.89\n",
      "A 105 días, VaR(95.0%) = 103.06   Portfolio : 1086.75\n",
      "A 106 días, VaR(95.0%) = 103.55   Portfolio : 1087.61\n",
      "A 107 días, VaR(95.0%) = 104.04   Portfolio : 1088.47\n",
      "A 108 días, VaR(95.0%) = 104.52   Portfolio : 1089.34\n",
      "A 109 días, VaR(95.0%) = 105.0   Portfolio : 1090.2\n",
      "A 110 días, VaR(95.0%) = 105.48   Portfolio : 1091.06\n",
      "A 111 días, VaR(95.0%) = 105.96   Portfolio : 1091.93\n",
      "A 112 días, VaR(95.0%) = 106.44   Portfolio : 1092.79\n",
      "A 113 días, VaR(95.0%) = 106.91   Portfolio : 1093.66\n",
      "A 114 días, VaR(95.0%) = 107.39   Portfolio : 1094.53\n",
      "A 115 días, VaR(95.0%) = 107.86   Portfolio : 1095.39\n",
      "A 116 días, VaR(95.0%) = 108.32   Portfolio : 1096.26\n",
      "A 117 días, VaR(95.0%) = 108.79   Portfolio : 1097.13\n",
      "A 118 días, VaR(95.0%) = 109.25   Portfolio : 1098.0\n",
      "A 119 días, VaR(95.0%) = 109.71   Portfolio : 1098.87\n",
      "A 120 días, VaR(95.0%) = 110.17   Portfolio : 1099.74\n",
      "A 121 días, VaR(95.0%) = 110.63   Portfolio : 1100.61\n",
      "A 122 días, VaR(95.0%) = 111.09   Portfolio : 1101.49\n",
      "A 123 días, VaR(95.0%) = 111.54   Portfolio : 1102.36\n",
      "A 124 días, VaR(95.0%) = 112.0   Portfolio : 1103.23\n",
      "A 125 días, VaR(95.0%) = 112.45   Portfolio : 1104.11\n",
      "A 126 días, VaR(95.0%) = 112.9   Portfolio : 1104.98\n",
      "A 127 días, VaR(95.0%) = 113.34   Portfolio : 1105.86\n",
      "A 128 días, VaR(95.0%) = 113.79   Portfolio : 1106.73\n",
      "A 129 días, VaR(95.0%) = 114.23   Portfolio : 1107.61\n",
      "A 130 días, VaR(95.0%) = 114.67   Portfolio : 1108.49\n",
      "A 131 días, VaR(95.0%) = 115.11   Portfolio : 1109.37\n",
      "A 132 días, VaR(95.0%) = 115.55   Portfolio : 1110.25\n",
      "A 133 días, VaR(95.0%) = 115.99   Portfolio : 1111.13\n",
      "A 134 días, VaR(95.0%) = 116.42   Portfolio : 1112.01\n",
      "A 135 días, VaR(95.0%) = 116.86   Portfolio : 1112.89\n",
      "A 136 días, VaR(95.0%) = 117.29   Portfolio : 1113.77\n",
      "A 137 días, VaR(95.0%) = 117.72   Portfolio : 1114.65\n",
      "A 138 días, VaR(95.0%) = 118.15   Portfolio : 1115.54\n",
      "A 139 días, VaR(95.0%) = 118.58   Portfolio : 1116.42\n",
      "A 140 días, VaR(95.0%) = 119.0   Portfolio : 1117.31\n",
      "A 141 días, VaR(95.0%) = 119.43   Portfolio : 1118.19\n",
      "A 142 días, VaR(95.0%) = 119.85   Portfolio : 1119.08\n",
      "A 143 días, VaR(95.0%) = 120.27   Portfolio : 1119.97\n",
      "A 144 días, VaR(95.0%) = 120.69   Portfolio : 1120.85\n",
      "A 145 días, VaR(95.0%) = 121.11   Portfolio : 1121.74\n",
      "A 146 días, VaR(95.0%) = 121.53   Portfolio : 1122.63\n",
      "A 147 días, VaR(95.0%) = 121.94   Portfolio : 1123.52\n",
      "A 148 días, VaR(95.0%) = 122.36   Portfolio : 1124.41\n",
      "A 149 días, VaR(95.0%) = 122.77   Portfolio : 1125.3\n",
      "A 150 días, VaR(95.0%) = 123.18   Portfolio : 1126.19\n",
      "A 151 días, VaR(95.0%) = 123.59   Portfolio : 1127.09\n",
      "A 152 días, VaR(95.0%) = 124.0   Portfolio : 1127.98\n",
      "A 153 días, VaR(95.0%) = 124.4   Portfolio : 1128.87\n",
      "A 154 días, VaR(95.0%) = 124.81   Portfolio : 1129.77\n",
      "A 155 días, VaR(95.0%) = 125.22   Portfolio : 1130.66\n",
      "A 156 días, VaR(95.0%) = 125.62   Portfolio : 1131.56\n",
      "A 157 días, VaR(95.0%) = 126.02   Portfolio : 1132.46\n",
      "A 158 días, VaR(95.0%) = 126.42   Portfolio : 1133.35\n",
      "A 159 días, VaR(95.0%) = 126.82   Portfolio : 1134.25\n",
      "A 160 días, VaR(95.0%) = 127.22   Portfolio : 1135.15\n",
      "A 161 días, VaR(95.0%) = 127.62   Portfolio : 1136.05\n",
      "A 162 días, VaR(95.0%) = 128.01   Portfolio : 1136.95\n",
      "A 163 días, VaR(95.0%) = 128.41   Portfolio : 1137.85\n",
      "A 164 días, VaR(95.0%) = 128.8   Portfolio : 1138.76\n",
      "A 165 días, VaR(95.0%) = 129.19   Portfolio : 1139.66\n",
      "A 166 días, VaR(95.0%) = 129.58   Portfolio : 1140.56\n",
      "A 167 días, VaR(95.0%) = 129.97   Portfolio : 1141.47\n",
      "A 168 días, VaR(95.0%) = 130.36   Portfolio : 1142.37\n",
      "A 169 días, VaR(95.0%) = 130.75   Portfolio : 1143.28\n",
      "A 170 días, VaR(95.0%) = 131.13   Portfolio : 1144.18\n",
      "A 171 días, VaR(95.0%) = 131.52   Portfolio : 1145.09\n",
      "A 172 días, VaR(95.0%) = 131.9   Portfolio : 1146.0\n",
      "A 173 días, VaR(95.0%) = 132.29   Portfolio : 1146.9\n",
      "A 174 días, VaR(95.0%) = 132.67   Portfolio : 1147.81\n",
      "A 175 días, VaR(95.0%) = 133.05   Portfolio : 1148.72\n",
      "A 176 días, VaR(95.0%) = 133.43   Portfolio : 1149.63\n",
      "A 177 días, VaR(95.0%) = 133.81   Portfolio : 1150.54\n",
      "A 178 días, VaR(95.0%) = 134.18   Portfolio : 1151.46\n",
      "A 179 días, VaR(95.0%) = 134.56   Portfolio : 1152.37\n",
      "A 180 días, VaR(95.0%) = 134.94   Portfolio : 1153.28\n",
      "A 181 días, VaR(95.0%) = 135.31   Portfolio : 1154.2\n",
      "A 182 días, VaR(95.0%) = 135.68   Portfolio : 1155.11\n",
      "A 183 días, VaR(95.0%) = 136.06   Portfolio : 1156.03\n",
      "A 184 días, VaR(95.0%) = 136.43   Portfolio : 1156.94\n",
      "A 185 días, VaR(95.0%) = 136.8   Portfolio : 1157.86\n",
      "A 186 días, VaR(95.0%) = 137.17   Portfolio : 1158.78\n",
      "A 187 días, VaR(95.0%) = 137.53   Portfolio : 1159.7\n",
      "A 188 días, VaR(95.0%) = 137.9   Portfolio : 1160.62\n",
      "A 189 días, VaR(95.0%) = 138.27   Portfolio : 1161.54\n",
      "A 190 días, VaR(95.0%) = 138.63   Portfolio : 1162.46\n",
      "A 191 días, VaR(95.0%) = 139.0   Portfolio : 1163.38\n",
      "A 192 días, VaR(95.0%) = 139.36   Portfolio : 1164.3\n",
      "A 193 días, VaR(95.0%) = 139.72   Portfolio : 1165.22\n",
      "A 194 días, VaR(95.0%) = 140.09   Portfolio : 1166.15\n",
      "A 195 días, VaR(95.0%) = 140.45   Portfolio : 1167.07\n",
      "A 196 días, VaR(95.0%) = 140.81   Portfolio : 1168.0\n",
      "A 197 días, VaR(95.0%) = 141.16   Portfolio : 1168.92\n",
      "A 198 días, VaR(95.0%) = 141.52   Portfolio : 1169.85\n",
      "A 199 días, VaR(95.0%) = 141.88   Portfolio : 1170.77\n",
      "A 200 días, VaR(95.0%) = 142.24   Portfolio : 1171.7\n",
      "A 201 días, VaR(95.0%) = 142.59   Portfolio : 1172.63\n",
      "A 202 días, VaR(95.0%) = 142.94   Portfolio : 1173.56\n",
      "A 203 días, VaR(95.0%) = 143.3   Portfolio : 1174.49\n",
      "A 204 días, VaR(95.0%) = 143.65   Portfolio : 1175.42\n",
      "A 205 días, VaR(95.0%) = 144.0   Portfolio : 1176.35\n",
      "A 206 días, VaR(95.0%) = 144.35   Portfolio : 1177.29\n",
      "A 207 días, VaR(95.0%) = 144.7   Portfolio : 1178.22\n",
      "A 208 días, VaR(95.0%) = 145.05   Portfolio : 1179.15\n",
      "A 209 días, VaR(95.0%) = 145.4   Portfolio : 1180.09\n",
      "A 210 días, VaR(95.0%) = 145.75   Portfolio : 1181.02\n",
      "A 211 días, VaR(95.0%) = 146.09   Portfolio : 1181.96\n",
      "A 212 días, VaR(95.0%) = 146.44   Portfolio : 1182.9\n",
      "A 213 días, VaR(95.0%) = 146.78   Portfolio : 1183.83\n",
      "A 214 días, VaR(95.0%) = 147.13   Portfolio : 1184.77\n",
      "A 215 días, VaR(95.0%) = 147.47   Portfolio : 1185.71\n",
      "A 216 días, VaR(95.0%) = 147.82   Portfolio : 1186.65\n",
      "A 217 días, VaR(95.0%) = 148.16   Portfolio : 1187.59\n",
      "A 218 días, VaR(95.0%) = 148.5   Portfolio : 1188.53\n",
      "A 219 días, VaR(95.0%) = 148.84   Portfolio : 1189.47\n",
      "A 220 días, VaR(95.0%) = 149.18   Portfolio : 1190.42\n",
      "A 221 días, VaR(95.0%) = 149.52   Portfolio : 1191.36\n",
      "A 222 días, VaR(95.0%) = 149.85   Portfolio : 1192.31\n",
      "A 223 días, VaR(95.0%) = 150.19   Portfolio : 1193.25\n",
      "A 224 días, VaR(95.0%) = 150.53   Portfolio : 1194.2\n",
      "A 225 días, VaR(95.0%) = 150.86   Portfolio : 1195.14\n",
      "A 226 días, VaR(95.0%) = 151.2   Portfolio : 1196.09\n",
      "A 227 días, VaR(95.0%) = 151.53   Portfolio : 1197.04\n",
      "A 228 días, VaR(95.0%) = 151.87   Portfolio : 1197.99\n",
      "A 229 días, VaR(95.0%) = 152.2   Portfolio : 1198.94\n",
      "A 230 días, VaR(95.0%) = 152.53   Portfolio : 1199.89\n",
      "A 231 días, VaR(95.0%) = 152.86   Portfolio : 1200.84\n",
      "A 232 días, VaR(95.0%) = 153.19   Portfolio : 1201.79\n",
      "A 233 días, VaR(95.0%) = 153.52   Portfolio : 1202.74\n",
      "A 234 días, VaR(95.0%) = 153.85   Portfolio : 1203.7\n",
      "A 235 días, VaR(95.0%) = 154.18   Portfolio : 1204.65\n",
      "A 236 días, VaR(95.0%) = 154.51   Portfolio : 1205.6\n",
      "A 237 días, VaR(95.0%) = 154.83   Portfolio : 1206.56\n",
      "A 238 días, VaR(95.0%) = 155.16   Portfolio : 1207.52\n",
      "A 239 días, VaR(95.0%) = 155.49   Portfolio : 1208.47\n",
      "A 240 días, VaR(95.0%) = 155.81   Portfolio : 1209.43\n",
      "A 241 días, VaR(95.0%) = 156.14   Portfolio : 1210.39\n",
      "A 242 días, VaR(95.0%) = 156.46   Portfolio : 1211.35\n",
      "A 243 días, VaR(95.0%) = 156.78   Portfolio : 1212.31\n",
      "A 244 días, VaR(95.0%) = 157.1   Portfolio : 1213.27\n",
      "A 245 días, VaR(95.0%) = 157.43   Portfolio : 1214.23\n",
      "A 246 días, VaR(95.0%) = 157.75   Portfolio : 1215.19\n",
      "A 247 días, VaR(95.0%) = 158.07   Portfolio : 1216.16\n",
      "A 248 días, VaR(95.0%) = 158.39   Portfolio : 1217.12\n",
      "A 249 días, VaR(95.0%) = 158.71   Portfolio : 1218.09\n",
      "A 250 días, VaR(95.0%) = 159.02   Portfolio : 1219.05\n",
      "A 251 días, VaR(95.0%) = 159.34   Portfolio : 1220.02\n",
      "A 252 días, VaR(95.0%) = 159.66   Portfolio : 1220.98\n"
     ]
    }
   ],
   "source": [
    "investment = int(1000)\n",
    "\n",
    "mean_investment = (1+portfolio_mean) * investment\n",
    "stdev_investment = investment * portfolio_stdev\n",
    "\n",
    "conf_level = 0.05\n",
    "cut = norm.ppf(conf_level, mean_investment, stdev_investment)\n",
    "\n",
    "var_1d = investment - cut \n",
    "\n",
    "days = int(252)\n",
    "\n",
    "print((\"\\nLa pérdida máxima de tu cartera inicial de \" + str(investment) + \n",
    "    \" usd con un nivel de confianza del \" + str((1 - conf_level) * 100) + \"% y para los siguientes \" + str(days) + \" días es de:\\n\"))\n",
    "\n",
    "var_array = []\n",
    "\n",
    "for i in range(1, days+1):\n",
    "    var_array.append(np.round(var_1d * np.sqrt(i), 2))\n",
    "    print(\"A \" + str(i) + \" días, VaR(\" + str((1 - conf_level) * 100) + \"%) = \" + str(((np.round(var_1d * np.sqrt(i), 2))))+ \"   Portfolio : \" +str((np.round(investment * (1+portfolio_mean)**(i),2 ))))\n"
   ]
  },
  {
   "cell_type": "code",
   "execution_count": 232,
   "id": "12b2baeb-a619-49df-b4d4-18c9a56b0b9f",
   "metadata": {},
   "outputs": [
    {
     "data": {
      "image/png": "[encoded data removed]",
      "text/plain": [
       "<Figure size 432x288 with 1 Axes>"
      ]
     },
     "metadata": {
      "needs_background": "light"
     },
     "output_type": "display_data"
    },
    {
     "data": {
      "image/png": "[encoded data removed]",
      "text/plain": [
       "<Figure size 432x288 with 4 Axes>"
      ]
     },
     "metadata": {
      "needs_background": "light"
     },
     "output_type": "display_data"
    }
   ],
   "source": [
    "plt.xlabel(\"Días\")\n",
    "plt.ylabel(\"Pérdida máxima de la cartera (USD)\")\n",
    "plt.title(\"Perdida máxima de la cartera para el periodo\")\n",
    "plt.plot(var_array,\"r\")\n",
    "\n",
    "returns.hist(bins=60,histtype=\"stepfilled\",alpha=0.5)\n",
    "\n",
    "plt.show()"
   ]
  },
  {
   "cell_type": "markdown",
   "id": "7585a05c-04db-4b59-ba7c-50b2f3f75a98",
   "metadata": {},
   "source": [
    "### VaR con un nivel de confianza de 99%"
   ]
  },
  {
   "cell_type": "code",
   "execution_count": 233,
   "id": "98cda666-3716-4e97-8aa0-4ce58fa18aad",
   "metadata": {},
   "outputs": [
    {
     "name": "stdout",
     "output_type": "stream",
     "text": [
      "\n",
      "La pérdida máxima de tu cartera inicial de 1000 usd con un nivel de confianza del 99.0% y para los siguientes 252 días es de:\n",
      "\n",
      "A 1 días, VaR(99.0%) = 14.55   Portfolio : 1000.79\n",
      "A 2 días, VaR(99.0%) = 20.58   Portfolio : 1001.59\n",
      "A 3 días, VaR(99.0%) = 25.21   Portfolio : 1002.38\n",
      "A 4 días, VaR(99.0%) = 29.11   Portfolio : 1003.17\n",
      "A 5 días, VaR(99.0%) = 32.54   Portfolio : 1003.97\n",
      "A 6 días, VaR(99.0%) = 35.65   Portfolio : 1004.77\n",
      "A 7 días, VaR(99.0%) = 38.5   Portfolio : 1005.56\n",
      "A 8 días, VaR(99.0%) = 41.16   Portfolio : 1006.36\n",
      "A 9 días, VaR(99.0%) = 43.66   Portfolio : 1007.16\n",
      "A 10 días, VaR(99.0%) = 46.02   Portfolio : 1007.95\n",
      "A 11 días, VaR(99.0%) = 48.27   Portfolio : 1008.75\n",
      "A 12 días, VaR(99.0%) = 50.41   Portfolio : 1009.55\n",
      "A 13 días, VaR(99.0%) = 52.47   Portfolio : 1010.35\n",
      "A 14 días, VaR(99.0%) = 54.45   Portfolio : 1011.15\n",
      "A 15 días, VaR(99.0%) = 56.36   Portfolio : 1011.96\n",
      "A 16 días, VaR(99.0%) = 58.21   Portfolio : 1012.76\n",
      "A 17 días, VaR(99.0%) = 60.0   Portfolio : 1013.56\n",
      "A 18 días, VaR(99.0%) = 61.74   Portfolio : 1014.36\n",
      "A 19 días, VaR(99.0%) = 63.43   Portfolio : 1015.17\n",
      "A 20 días, VaR(99.0%) = 65.08   Portfolio : 1015.97\n",
      "A 21 días, VaR(99.0%) = 66.69   Portfolio : 1016.78\n",
      "A 22 días, VaR(99.0%) = 68.26   Portfolio : 1017.58\n",
      "A 23 días, VaR(99.0%) = 69.79   Portfolio : 1018.39\n",
      "A 24 días, VaR(99.0%) = 71.29   Portfolio : 1019.2\n",
      "A 25 días, VaR(99.0%) = 72.76   Portfolio : 1020.0\n",
      "A 26 días, VaR(99.0%) = 74.21   Portfolio : 1020.81\n",
      "A 27 días, VaR(99.0%) = 75.62   Portfolio : 1021.62\n",
      "A 28 días, VaR(99.0%) = 77.01   Portfolio : 1022.43\n",
      "A 29 días, VaR(99.0%) = 78.37   Portfolio : 1023.24\n",
      "A 30 días, VaR(99.0%) = 79.71   Portfolio : 1024.05\n",
      "A 31 días, VaR(99.0%) = 81.03   Portfolio : 1024.87\n",
      "A 32 días, VaR(99.0%) = 82.32   Portfolio : 1025.68\n",
      "A 33 días, VaR(99.0%) = 83.6   Portfolio : 1026.49\n",
      "A 34 días, VaR(99.0%) = 84.86   Portfolio : 1027.3\n",
      "A 35 días, VaR(99.0%) = 86.1   Portfolio : 1028.12\n",
      "A 36 días, VaR(99.0%) = 87.32   Portfolio : 1028.93\n",
      "A 37 días, VaR(99.0%) = 88.52   Portfolio : 1029.75\n",
      "A 38 días, VaR(99.0%) = 89.71   Portfolio : 1030.56\n",
      "A 39 días, VaR(99.0%) = 90.88   Portfolio : 1031.38\n",
      "A 40 días, VaR(99.0%) = 92.04   Portfolio : 1032.2\n",
      "A 41 días, VaR(99.0%) = 93.18   Portfolio : 1033.02\n",
      "A 42 días, VaR(99.0%) = 94.31   Portfolio : 1033.84\n",
      "A 43 días, VaR(99.0%) = 95.43   Portfolio : 1034.66\n",
      "A 44 días, VaR(99.0%) = 96.53   Portfolio : 1035.48\n",
      "A 45 días, VaR(99.0%) = 97.62   Portfolio : 1036.3\n",
      "A 46 días, VaR(99.0%) = 98.7   Portfolio : 1037.12\n",
      "A 47 días, VaR(99.0%) = 99.77   Portfolio : 1037.94\n",
      "A 48 días, VaR(99.0%) = 100.83   Portfolio : 1038.76\n",
      "A 49 días, VaR(99.0%) = 101.87   Portfolio : 1039.59\n",
      "A 50 días, VaR(99.0%) = 102.9   Portfolio : 1040.41\n",
      "A 51 días, VaR(99.0%) = 103.93   Portfolio : 1041.23\n",
      "A 52 días, VaR(99.0%) = 104.94   Portfolio : 1042.06\n",
      "A 53 días, VaR(99.0%) = 105.95   Portfolio : 1042.89\n",
      "A 54 días, VaR(99.0%) = 106.94   Portfolio : 1043.71\n",
      "A 55 días, VaR(99.0%) = 107.93   Portfolio : 1044.54\n",
      "A 56 días, VaR(99.0%) = 108.9   Portfolio : 1045.37\n",
      "A 57 días, VaR(99.0%) = 109.87   Portfolio : 1046.2\n",
      "A 58 días, VaR(99.0%) = 110.83   Portfolio : 1047.03\n",
      "A 59 días, VaR(99.0%) = 111.78   Portfolio : 1047.85\n",
      "A 60 días, VaR(99.0%) = 112.73   Portfolio : 1048.69\n",
      "A 61 días, VaR(99.0%) = 113.66   Portfolio : 1049.52\n",
      "A 62 días, VaR(99.0%) = 114.59   Portfolio : 1050.35\n",
      "A 63 días, VaR(99.0%) = 115.51   Portfolio : 1051.18\n",
      "A 64 días, VaR(99.0%) = 116.42   Portfolio : 1052.01\n",
      "A 65 días, VaR(99.0%) = 117.33   Portfolio : 1052.85\n",
      "A 66 días, VaR(99.0%) = 118.23   Portfolio : 1053.68\n",
      "A 67 días, VaR(99.0%) = 119.12   Portfolio : 1054.52\n",
      "A 68 días, VaR(99.0%) = 120.01   Portfolio : 1055.35\n",
      "A 69 días, VaR(99.0%) = 120.89   Portfolio : 1056.19\n",
      "A 70 días, VaR(99.0%) = 121.76   Portfolio : 1057.03\n",
      "A 71 días, VaR(99.0%) = 122.63   Portfolio : 1057.86\n",
      "A 72 días, VaR(99.0%) = 123.49   Portfolio : 1058.7\n",
      "A 73 días, VaR(99.0%) = 124.34   Portfolio : 1059.54\n",
      "A 74 días, VaR(99.0%) = 125.19   Portfolio : 1060.38\n",
      "A 75 días, VaR(99.0%) = 126.03   Portfolio : 1061.22\n",
      "A 76 días, VaR(99.0%) = 126.87   Portfolio : 1062.06\n",
      "A 77 días, VaR(99.0%) = 127.7   Portfolio : 1062.91\n",
      "A 78 días, VaR(99.0%) = 128.53   Portfolio : 1063.75\n",
      "A 79 días, VaR(99.0%) = 129.35   Portfolio : 1064.59\n",
      "A 80 días, VaR(99.0%) = 130.17   Portfolio : 1065.44\n",
      "A 81 días, VaR(99.0%) = 130.98   Portfolio : 1066.28\n",
      "A 82 días, VaR(99.0%) = 131.78   Portfolio : 1067.12\n",
      "A 83 días, VaR(99.0%) = 132.58   Portfolio : 1067.97\n",
      "A 84 días, VaR(99.0%) = 133.38   Portfolio : 1068.82\n",
      "A 85 días, VaR(99.0%) = 134.17   Portfolio : 1069.66\n",
      "A 86 días, VaR(99.0%) = 134.96   Portfolio : 1070.51\n",
      "A 87 días, VaR(99.0%) = 135.74   Portfolio : 1071.36\n",
      "A 88 días, VaR(99.0%) = 136.52   Portfolio : 1072.21\n",
      "A 89 días, VaR(99.0%) = 137.29   Portfolio : 1073.06\n",
      "A 90 días, VaR(99.0%) = 138.06   Portfolio : 1073.91\n",
      "A 91 días, VaR(99.0%) = 138.83   Portfolio : 1074.76\n",
      "A 92 días, VaR(99.0%) = 139.59   Portfolio : 1075.61\n",
      "A 93 días, VaR(99.0%) = 140.34   Portfolio : 1076.47\n",
      "A 94 días, VaR(99.0%) = 141.1   Portfolio : 1077.32\n",
      "A 95 días, VaR(99.0%) = 141.84   Portfolio : 1078.17\n",
      "A 96 días, VaR(99.0%) = 142.59   Portfolio : 1079.03\n",
      "A 97 días, VaR(99.0%) = 143.33   Portfolio : 1079.88\n",
      "A 98 días, VaR(99.0%) = 144.07   Portfolio : 1080.74\n",
      "A 99 días, VaR(99.0%) = 144.8   Portfolio : 1081.6\n",
      "A 100 días, VaR(99.0%) = 145.53   Portfolio : 1082.45\n",
      "A 101 días, VaR(99.0%) = 146.26   Portfolio : 1083.31\n",
      "A 102 días, VaR(99.0%) = 146.98   Portfolio : 1084.17\n",
      "A 103 días, VaR(99.0%) = 147.7   Portfolio : 1085.03\n",
      "A 104 días, VaR(99.0%) = 148.41   Portfolio : 1085.89\n",
      "A 105 días, VaR(99.0%) = 149.12   Portfolio : 1086.75\n",
      "A 106 días, VaR(99.0%) = 149.83   Portfolio : 1087.61\n",
      "A 107 días, VaR(99.0%) = 150.54   Portfolio : 1088.47\n",
      "A 108 días, VaR(99.0%) = 151.24   Portfolio : 1089.34\n",
      "A 109 días, VaR(99.0%) = 151.94   Portfolio : 1090.2\n",
      "A 110 días, VaR(99.0%) = 152.63   Portfolio : 1091.06\n",
      "A 111 días, VaR(99.0%) = 153.32   Portfolio : 1091.93\n",
      "A 112 días, VaR(99.0%) = 154.01   Portfolio : 1092.79\n",
      "A 113 días, VaR(99.0%) = 154.7   Portfolio : 1093.66\n",
      "A 114 días, VaR(99.0%) = 155.38   Portfolio : 1094.53\n",
      "A 115 días, VaR(99.0%) = 156.06   Portfolio : 1095.39\n",
      "A 116 días, VaR(99.0%) = 156.74   Portfolio : 1096.26\n",
      "A 117 días, VaR(99.0%) = 157.41   Portfolio : 1097.13\n",
      "A 118 días, VaR(99.0%) = 158.09   Portfolio : 1098.0\n",
      "A 119 días, VaR(99.0%) = 158.75   Portfolio : 1098.87\n",
      "A 120 días, VaR(99.0%) = 159.42   Portfolio : 1099.74\n",
      "A 121 días, VaR(99.0%) = 160.08   Portfolio : 1100.61\n",
      "A 122 días, VaR(99.0%) = 160.74   Portfolio : 1101.49\n",
      "A 123 días, VaR(99.0%) = 161.4   Portfolio : 1102.36\n",
      "A 124 días, VaR(99.0%) = 162.05   Portfolio : 1103.23\n",
      "A 125 días, VaR(99.0%) = 162.71   Portfolio : 1104.11\n",
      "A 126 días, VaR(99.0%) = 163.36   Portfolio : 1104.98\n",
      "A 127 días, VaR(99.0%) = 164.0   Portfolio : 1105.86\n",
      "A 128 días, VaR(99.0%) = 164.65   Portfolio : 1106.73\n",
      "A 129 días, VaR(99.0%) = 165.29   Portfolio : 1107.61\n",
      "A 130 días, VaR(99.0%) = 165.93   Portfolio : 1108.49\n",
      "A 131 días, VaR(99.0%) = 166.57   Portfolio : 1109.37\n",
      "A 132 días, VaR(99.0%) = 167.2   Portfolio : 1110.25\n",
      "A 133 días, VaR(99.0%) = 167.83   Portfolio : 1111.13\n",
      "A 134 días, VaR(99.0%) = 168.46   Portfolio : 1112.01\n",
      "A 135 días, VaR(99.0%) = 169.09   Portfolio : 1112.89\n",
      "A 136 días, VaR(99.0%) = 169.72   Portfolio : 1113.77\n",
      "A 137 días, VaR(99.0%) = 170.34   Portfolio : 1114.65\n",
      "A 138 días, VaR(99.0%) = 170.96   Portfolio : 1115.54\n",
      "A 139 días, VaR(99.0%) = 171.58   Portfolio : 1116.42\n",
      "A 140 días, VaR(99.0%) = 172.19   Portfolio : 1117.31\n",
      "A 141 días, VaR(99.0%) = 172.81   Portfolio : 1118.19\n",
      "A 142 días, VaR(99.0%) = 173.42   Portfolio : 1119.08\n",
      "A 143 días, VaR(99.0%) = 174.03   Portfolio : 1119.97\n",
      "A 144 días, VaR(99.0%) = 174.64   Portfolio : 1120.85\n",
      "A 145 días, VaR(99.0%) = 175.24   Portfolio : 1121.74\n",
      "A 146 días, VaR(99.0%) = 175.84   Portfolio : 1122.63\n",
      "A 147 días, VaR(99.0%) = 176.45   Portfolio : 1123.52\n",
      "A 148 días, VaR(99.0%) = 177.04   Portfolio : 1124.41\n",
      "A 149 días, VaR(99.0%) = 177.64   Portfolio : 1125.3\n",
      "A 150 días, VaR(99.0%) = 178.24   Portfolio : 1126.19\n",
      "A 151 días, VaR(99.0%) = 178.83   Portfolio : 1127.09\n",
      "A 152 días, VaR(99.0%) = 179.42   Portfolio : 1127.98\n",
      "A 153 días, VaR(99.0%) = 180.01   Portfolio : 1128.87\n",
      "A 154 días, VaR(99.0%) = 180.6   Portfolio : 1129.77\n",
      "A 155 días, VaR(99.0%) = 181.18   Portfolio : 1130.66\n",
      "A 156 días, VaR(99.0%) = 181.77   Portfolio : 1131.56\n",
      "A 157 días, VaR(99.0%) = 182.35   Portfolio : 1132.46\n",
      "A 158 días, VaR(99.0%) = 182.93   Portfolio : 1133.35\n",
      "A 159 días, VaR(99.0%) = 183.51   Portfolio : 1134.25\n",
      "A 160 días, VaR(99.0%) = 184.08   Portfolio : 1135.15\n",
      "A 161 días, VaR(99.0%) = 184.66   Portfolio : 1136.05\n",
      "A 162 días, VaR(99.0%) = 185.23   Portfolio : 1136.95\n",
      "A 163 días, VaR(99.0%) = 185.8   Portfolio : 1137.85\n",
      "A 164 días, VaR(99.0%) = 186.37   Portfolio : 1138.76\n",
      "A 165 días, VaR(99.0%) = 186.94   Portfolio : 1139.66\n",
      "A 166 días, VaR(99.0%) = 187.5   Portfolio : 1140.56\n",
      "A 167 días, VaR(99.0%) = 188.07   Portfolio : 1141.47\n",
      "A 168 días, VaR(99.0%) = 188.63   Portfolio : 1142.37\n",
      "A 169 días, VaR(99.0%) = 189.19   Portfolio : 1143.28\n",
      "A 170 días, VaR(99.0%) = 189.75   Portfolio : 1144.18\n",
      "A 171 días, VaR(99.0%) = 190.3   Portfolio : 1145.09\n",
      "A 172 días, VaR(99.0%) = 190.86   Portfolio : 1146.0\n",
      "A 173 días, VaR(99.0%) = 191.41   Portfolio : 1146.9\n",
      "A 174 días, VaR(99.0%) = 191.97   Portfolio : 1147.81\n",
      "A 175 días, VaR(99.0%) = 192.52   Portfolio : 1148.72\n",
      "A 176 días, VaR(99.0%) = 193.07   Portfolio : 1149.63\n",
      "A 177 días, VaR(99.0%) = 193.61   Portfolio : 1150.54\n",
      "A 178 días, VaR(99.0%) = 194.16   Portfolio : 1151.46\n",
      "A 179 días, VaR(99.0%) = 194.71   Portfolio : 1152.37\n",
      "A 180 días, VaR(99.0%) = 195.25   Portfolio : 1153.28\n",
      "A 181 días, VaR(99.0%) = 195.79   Portfolio : 1154.2\n",
      "A 182 días, VaR(99.0%) = 196.33   Portfolio : 1155.11\n",
      "A 183 días, VaR(99.0%) = 196.87   Portfolio : 1156.03\n",
      "A 184 días, VaR(99.0%) = 197.41   Portfolio : 1156.94\n",
      "A 185 días, VaR(99.0%) = 197.94   Portfolio : 1157.86\n",
      "A 186 días, VaR(99.0%) = 198.48   Portfolio : 1158.78\n",
      "A 187 días, VaR(99.0%) = 199.01   Portfolio : 1159.7\n",
      "A 188 días, VaR(99.0%) = 199.54   Portfolio : 1160.62\n",
      "A 189 días, VaR(99.0%) = 200.07   Portfolio : 1161.54\n",
      "A 190 días, VaR(99.0%) = 200.6   Portfolio : 1162.46\n",
      "A 191 días, VaR(99.0%) = 201.13   Portfolio : 1163.38\n",
      "A 192 días, VaR(99.0%) = 201.65   Portfolio : 1164.3\n",
      "A 193 días, VaR(99.0%) = 202.18   Portfolio : 1165.22\n",
      "A 194 días, VaR(99.0%) = 202.7   Portfolio : 1166.15\n",
      "A 195 días, VaR(99.0%) = 203.22   Portfolio : 1167.07\n",
      "A 196 días, VaR(99.0%) = 203.74   Portfolio : 1168.0\n",
      "A 197 días, VaR(99.0%) = 204.26   Portfolio : 1168.92\n",
      "A 198 días, VaR(99.0%) = 204.78   Portfolio : 1169.85\n",
      "A 199 días, VaR(99.0%) = 205.29   Portfolio : 1170.77\n",
      "A 200 días, VaR(99.0%) = 205.81   Portfolio : 1171.7\n",
      "A 201 días, VaR(99.0%) = 206.32   Portfolio : 1172.63\n",
      "A 202 días, VaR(99.0%) = 206.84   Portfolio : 1173.56\n",
      "A 203 días, VaR(99.0%) = 207.35   Portfolio : 1174.49\n",
      "A 204 días, VaR(99.0%) = 207.86   Portfolio : 1175.42\n",
      "A 205 días, VaR(99.0%) = 208.37   Portfolio : 1176.35\n",
      "A 206 días, VaR(99.0%) = 208.87   Portfolio : 1177.29\n",
      "A 207 días, VaR(99.0%) = 209.38   Portfolio : 1178.22\n",
      "A 208 días, VaR(99.0%) = 209.89   Portfolio : 1179.15\n",
      "A 209 días, VaR(99.0%) = 210.39   Portfolio : 1180.09\n",
      "A 210 días, VaR(99.0%) = 210.89   Portfolio : 1181.02\n",
      "A 211 días, VaR(99.0%) = 211.39   Portfolio : 1181.96\n",
      "A 212 días, VaR(99.0%) = 211.89   Portfolio : 1182.9\n",
      "A 213 días, VaR(99.0%) = 212.39   Portfolio : 1183.83\n",
      "A 214 días, VaR(99.0%) = 212.89   Portfolio : 1184.77\n",
      "A 215 días, VaR(99.0%) = 213.39   Portfolio : 1185.71\n",
      "A 216 días, VaR(99.0%) = 213.88   Portfolio : 1186.65\n",
      "A 217 días, VaR(99.0%) = 214.38   Portfolio : 1187.59\n",
      "A 218 días, VaR(99.0%) = 214.87   Portfolio : 1188.53\n",
      "A 219 días, VaR(99.0%) = 215.36   Portfolio : 1189.47\n",
      "A 220 días, VaR(99.0%) = 215.86   Portfolio : 1190.42\n",
      "A 221 días, VaR(99.0%) = 216.35   Portfolio : 1191.36\n",
      "A 222 días, VaR(99.0%) = 216.83   Portfolio : 1192.31\n",
      "A 223 días, VaR(99.0%) = 217.32   Portfolio : 1193.25\n",
      "A 224 días, VaR(99.0%) = 217.81   Portfolio : 1194.2\n",
      "A 225 días, VaR(99.0%) = 218.29   Portfolio : 1195.14\n",
      "A 226 días, VaR(99.0%) = 218.78   Portfolio : 1196.09\n",
      "A 227 días, VaR(99.0%) = 219.26   Portfolio : 1197.04\n",
      "A 228 días, VaR(99.0%) = 219.74   Portfolio : 1197.99\n",
      "A 229 días, VaR(99.0%) = 220.23   Portfolio : 1198.94\n",
      "A 230 días, VaR(99.0%) = 220.71   Portfolio : 1199.89\n",
      "A 231 días, VaR(99.0%) = 221.19   Portfolio : 1200.84\n",
      "A 232 días, VaR(99.0%) = 221.66   Portfolio : 1201.79\n",
      "A 233 días, VaR(99.0%) = 222.14   Portfolio : 1202.74\n",
      "A 234 días, VaR(99.0%) = 222.62   Portfolio : 1203.7\n",
      "A 235 días, VaR(99.0%) = 223.09   Portfolio : 1204.65\n",
      "A 236 días, VaR(99.0%) = 223.57   Portfolio : 1205.6\n",
      "A 237 días, VaR(99.0%) = 224.04   Portfolio : 1206.56\n",
      "A 238 días, VaR(99.0%) = 224.51   Portfolio : 1207.52\n",
      "A 239 días, VaR(99.0%) = 224.98   Portfolio : 1208.47\n",
      "A 240 días, VaR(99.0%) = 225.45   Portfolio : 1209.43\n",
      "A 241 días, VaR(99.0%) = 225.92   Portfolio : 1210.39\n",
      "A 242 días, VaR(99.0%) = 226.39   Portfolio : 1211.35\n",
      "A 243 días, VaR(99.0%) = 226.86   Portfolio : 1212.31\n",
      "A 244 días, VaR(99.0%) = 227.32   Portfolio : 1213.27\n",
      "A 245 días, VaR(99.0%) = 227.79   Portfolio : 1214.23\n",
      "A 246 días, VaR(99.0%) = 228.25   Portfolio : 1215.19\n",
      "A 247 días, VaR(99.0%) = 228.72   Portfolio : 1216.16\n",
      "A 248 días, VaR(99.0%) = 229.18   Portfolio : 1217.12\n",
      "A 249 días, VaR(99.0%) = 229.64   Portfolio : 1218.09\n",
      "A 250 días, VaR(99.0%) = 230.1   Portfolio : 1219.05\n",
      "A 251 días, VaR(99.0%) = 230.56   Portfolio : 1220.02\n",
      "A 252 días, VaR(99.0%) = 231.02   Portfolio : 1220.98\n"
     ]
    }
   ],
   "source": [
    "investment = int(1000)\n",
    "\n",
    "mean_investment = (1+portfolio_mean) * investment\n",
    "stdev_investment = investment * portfolio_stdev\n",
    "\n",
    "conf_level = 0.01\n",
    "cut = norm.ppf(conf_level, mean_investment, stdev_investment)\n",
    "\n",
    "var_1d = investment - cut \n",
    "\n",
    "days = int(252)\n",
    "\n",
    "print((\"\\nLa pérdida máxima de tu cartera inicial de \" + str(investment) + \n",
    "    \" usd con un nivel de confianza del \" + str((1 - conf_level) * 100) + \"% y para los siguientes \" + str(days) + \" días es de:\\n\"))\n",
    "\n",
    "var_array2 = []\n",
    "\n",
    "for i in range(1, days+1):\n",
    "    var_array2.append(np.round(var_1d * np.sqrt(i), 2))\n",
    "    print(\"A \" + str(i) + \" días, VaR(\" + str((1 - conf_level) * 100) + \"%) = \" + str(((np.round(var_1d * np.sqrt(i), 2))))+ \"   Portfolio : \" +str((np.round(investment * (1+portfolio_mean)**(i),2 ))))\n"
   ]
  },
  {
   "cell_type": "code",
   "execution_count": 234,
   "id": "fd775a0c-4747-43fa-a735-512240e07c88",
   "metadata": {},
   "outputs": [
    {
     "data": {
      "image/png": "[encoded data removed]",
      "text/plain": [
       "<Figure size 432x288 with 1 Axes>"
      ]
     },
     "metadata": {
      "needs_background": "light"
     },
     "output_type": "display_data"
    },
    {
     "data": {
      "image/png": "[encoded data removed]",
      "text/plain": [
       "<Figure size 432x288 with 4 Axes>"
      ]
     },
     "metadata": {
      "needs_background": "light"
     },
     "output_type": "display_data"
    }
   ],
   "source": [
    "plt.xlabel(\"Días\")\n",
    "plt.ylabel(\"Pérdida máxima de la cartera (USD)\")\n",
    "plt.title(\"Perdida máxima de la cartera para el periodo\")\n",
    "plt.plot(var_array2,\"r\")\n",
    "\n",
    "returns.hist(bins=60,histtype=\"stepfilled\",alpha=0.5)\n",
    "\n",
    "plt.show()"
   ]
  },
  {
   "cell_type": "markdown",
   "id": "5631bbbd-bda0-417b-87ed-3e9d1ca35b7c",
   "metadata": {},
   "source": [
    "# C)"
   ]
  },
  {
   "cell_type": "markdown",
   "id": "02a5db5a-383f-4e11-ba88-d030f2f1509b",
   "metadata": {},
   "source": [
    "### Rendimientos de la cartera"
   ]
  },
  {
   "cell_type": "code",
   "execution_count": 235,
   "id": "393e9bfd-29ae-4355-b1cb-62074bee5336",
   "metadata": {},
   "outputs": [
    {
     "data": {
      "text/plain": [
       "0.19094502049306236"
      ]
     },
     "execution_count": 235,
     "metadata": {},
     "output_type": "execute_result"
    }
   ],
   "source": [
    "np.sum(pesos*log_retono.mean())*250"
   ]
  },
  {
   "cell_type": "code",
   "execution_count": 236,
   "id": "284e7a5e-7d2f-419c-829f-ad3f43ed8e88",
   "metadata": {},
   "outputs": [
    {
     "data": {
      "text/html": [
       "<div>\n",
       "<style scoped>\n",
       "    .dataframe tbody tr th:only-of-type {\n",
       "        vertical-align: middle;\n",
       "    }\n",
       "\n",
       "    .dataframe tbody tr th {\n",
       "        vertical-align: top;\n",
       "    }\n",
       "\n",
       "    .dataframe thead th {\n",
       "        text-align: right;\n",
       "    }\n",
       "</style>\n",
       "<table border=\"1\" class=\"dataframe\">\n",
       "  <thead>\n",
       "    <tr style=\"text-align: right;\">\n",
       "      <th></th>\n",
       "      <th>FTSE100</th>\n",
       "      <th>CAC40</th>\n",
       "      <th>DAX</th>\n",
       "    </tr>\n",
       "    <tr>\n",
       "      <th>Date</th>\n",
       "      <th></th>\n",
       "      <th></th>\n",
       "      <th></th>\n",
       "    </tr>\n",
       "  </thead>\n",
       "  <tbody>\n",
       "    <tr>\n",
       "      <th>2004-07-23</th>\n",
       "      <td>0.004634</td>\n",
       "      <td>-0.001555</td>\n",
       "      <td>-0.000979</td>\n",
       "    </tr>\n",
       "    <tr>\n",
       "      <th>2004-07-26</th>\n",
       "      <td>-0.009125</td>\n",
       "      <td>-0.009769</td>\n",
       "      <td>-0.011852</td>\n",
       "    </tr>\n",
       "    <tr>\n",
       "      <th>2004-07-27</th>\n",
       "      <td>0.008802</td>\n",
       "      <td>0.009155</td>\n",
       "      <td>0.016253</td>\n",
       "    </tr>\n",
       "    <tr>\n",
       "      <th>2004-07-28</th>\n",
       "      <td>0.007234</td>\n",
       "      <td>0.003030</td>\n",
       "      <td>-0.001803</td>\n",
       "    </tr>\n",
       "    <tr>\n",
       "      <th>2004-07-29</th>\n",
       "      <td>0.014223</td>\n",
       "      <td>0.018802</td>\n",
       "      <td>0.021430</td>\n",
       "    </tr>\n",
       "    <tr>\n",
       "      <th>...</th>\n",
       "      <td>...</td>\n",
       "      <td>...</td>\n",
       "      <td>...</td>\n",
       "    </tr>\n",
       "    <tr>\n",
       "      <th>2005-12-08</th>\n",
       "      <td>0.000416</td>\n",
       "      <td>0.002004</td>\n",
       "      <td>0.003790</td>\n",
       "    </tr>\n",
       "    <tr>\n",
       "      <th>2005-12-09</th>\n",
       "      <td>-0.002480</td>\n",
       "      <td>-0.001912</td>\n",
       "      <td>-0.000874</td>\n",
       "    </tr>\n",
       "    <tr>\n",
       "      <th>2005-12-12</th>\n",
       "      <td>-0.002886</td>\n",
       "      <td>0.002597</td>\n",
       "      <td>0.003606</td>\n",
       "    </tr>\n",
       "    <tr>\n",
       "      <th>2005-12-13</th>\n",
       "      <td>0.001036</td>\n",
       "      <td>0.004328</td>\n",
       "      <td>0.001709</td>\n",
       "    </tr>\n",
       "    <tr>\n",
       "      <th>2005-12-14</th>\n",
       "      <td>0.002521</td>\n",
       "      <td>-0.003960</td>\n",
       "      <td>-0.004439</td>\n",
       "    </tr>\n",
       "  </tbody>\n",
       "</table>\n",
       "<p>346 rows × 3 columns</p>\n",
       "</div>"
      ],
      "text/plain": [
       "             FTSE100     CAC40       DAX\n",
       "Date                                    \n",
       "2004-07-23  0.004634 -0.001555 -0.000979\n",
       "2004-07-26 -0.009125 -0.009769 -0.011852\n",
       "2004-07-27  0.008802  0.009155  0.016253\n",
       "2004-07-28  0.007234  0.003030 -0.001803\n",
       "2004-07-29  0.014223  0.018802  0.021430\n",
       "...              ...       ...       ...\n",
       "2005-12-08  0.000416  0.002004  0.003790\n",
       "2005-12-09 -0.002480 -0.001912 -0.000874\n",
       "2005-12-12 -0.002886  0.002597  0.003606\n",
       "2005-12-13  0.001036  0.004328  0.001709\n",
       "2005-12-14  0.002521 -0.003960 -0.004439\n",
       "\n",
       "[346 rows x 3 columns]"
      ]
     },
     "execution_count": 236,
     "metadata": {},
     "output_type": "execute_result"
    }
   ],
   "source": [
    "log_retono = log_retono.dropna()\n",
    "log_retono"
   ]
  },
  {
   "cell_type": "code",
   "execution_count": 237,
   "id": "13276a30-36a0-434a-adc9-b3e83c215af3",
   "metadata": {},
   "outputs": [
    {
     "data": {
      "text/plain": [
       "0.010986949778450036"
      ]
     },
     "execution_count": 237,
     "metadata": {},
     "output_type": "execute_result"
    }
   ],
   "source": [
    "varianza = np.dot(pesos.T,np.dot(log_retono.cov()*250,pesos))\n",
    "varianza"
   ]
  },
  {
   "cell_type": "code",
   "execution_count": 238,
   "id": "ebd22a26-7835-49e6-8bf4-02c705b5cb43",
   "metadata": {},
   "outputs": [
    {
     "data": {
      "text/plain": [
       "0.10481865186334938"
      ]
     },
     "execution_count": 238,
     "metadata": {},
     "output_type": "execute_result"
    }
   ],
   "source": [
    "volatilidad = np.sqrt(varianza)\n",
    "volatilidad"
   ]
  },
  {
   "cell_type": "code",
   "execution_count": 239,
   "id": "9cf1ee22-1642-442a-96e7-e6f9676849a2",
   "metadata": {},
   "outputs": [],
   "source": [
    "retornos_portfolio = []\n",
    "volatilidades_portoflio = [] \n",
    "retornos_portfolio.append(np.sum(pesos*log_retono.mean())*250)\n",
    "volatilidades_portoflio.append(np.sqrt(np.dot(pesos.T,np.dot(log_retono.cov()*250,pesos))))"
   ]
  },
  {
   "cell_type": "code",
   "execution_count": 240,
   "id": "aac759ec-faf0-4faf-8733-97accff6760c",
   "metadata": {},
   "outputs": [],
   "source": [
    "retornos_portfolio=np.array(retornos_portfolio)"
   ]
  },
  {
   "cell_type": "code",
   "execution_count": 241,
   "id": "05cf4ecc-1f43-4f73-86ea-9f166c87db94",
   "metadata": {},
   "outputs": [],
   "source": [
    "volatilidades_portoflio=np.array(volatilidades_portoflio)"
   ]
  },
  {
   "cell_type": "code",
   "execution_count": 242,
   "id": "6bdf6809-583d-43f1-978b-d216779137e3",
   "metadata": {},
   "outputs": [],
   "source": [
    "porfolios = pd.DataFrame({'Retorno':retornos_portfolio,'Volatilidad':volatilidades_portoflio})"
   ]
  },
  {
   "cell_type": "code",
   "execution_count": 243,
   "id": "b2fd97f1-1e6f-4e2b-ac47-faf5622ae522",
   "metadata": {},
   "outputs": [],
   "source": [
    "inversion = 1000"
   ]
  },
  {
   "cell_type": "code",
   "execution_count": 375,
   "id": "bf4b7657-2466-4d7a-a008-96afb6bd6629",
   "metadata": {},
   "outputs": [],
   "source": [
    "porfolios['Retorno inversion'] = porfolios['Retorno'] * inversion"
   ]
  },
  {
   "cell_type": "code",
   "execution_count": 376,
   "id": "895cfdd2-1e91-4a32-9d6a-85be3e609c20",
   "metadata": {},
   "outputs": [],
   "source": [
    "porfolios['Saldo final '] = porfolios['Retorno'] * inversion + inversion"
   ]
  },
  {
   "cell_type": "code",
   "execution_count": 377,
   "id": "7c722db8-5b9a-4116-ae1d-65c76f2c39fc",
   "metadata": {},
   "outputs": [
    {
     "data": {
      "text/html": [
       "<div>\n",
       "<style scoped>\n",
       "    .dataframe tbody tr th:only-of-type {\n",
       "        vertical-align: middle;\n",
       "    }\n",
       "\n",
       "    .dataframe tbody tr th {\n",
       "        vertical-align: top;\n",
       "    }\n",
       "\n",
       "    .dataframe thead th {\n",
       "        text-align: right;\n",
       "    }\n",
       "</style>\n",
       "<table border=\"1\" class=\"dataframe\">\n",
       "  <thead>\n",
       "    <tr style=\"text-align: right;\">\n",
       "      <th></th>\n",
       "      <th>Retorno</th>\n",
       "      <th>Volatilidad</th>\n",
       "      <th>Retorno inversion</th>\n",
       "      <th>Saldo final</th>\n",
       "    </tr>\n",
       "  </thead>\n",
       "  <tbody>\n",
       "    <tr>\n",
       "      <th>0</th>\n",
       "      <td>0.193021</td>\n",
       "      <td>0.104819</td>\n",
       "      <td>193.020547</td>\n",
       "      <td>1193.020547</td>\n",
       "    </tr>\n",
       "  </tbody>\n",
       "</table>\n",
       "</div>"
      ],
      "text/plain": [
       "    Retorno  Volatilidad  Retorno inversion  Saldo final \n",
       "0  0.193021     0.104819         193.020547   1193.020547"
      ]
     },
     "execution_count": 377,
     "metadata": {},
     "output_type": "execute_result"
    }
   ],
   "source": [
    "porfolios"
   ]
  },
  {
   "cell_type": "markdown",
   "id": "64314814-6cbd-4d82-aa3a-a21d2bbee47c",
   "metadata": {},
   "source": [
    "- Retornos diarios de la cartera con los 3 indices"
   ]
  },
  {
   "cell_type": "code",
   "execution_count": 246,
   "id": "68e72ac3-852a-4a82-86ac-f793576313a4",
   "metadata": {},
   "outputs": [
    {
     "data": {
      "text/html": [
       "<div>\n",
       "<style scoped>\n",
       "    .dataframe tbody tr th:only-of-type {\n",
       "        vertical-align: middle;\n",
       "    }\n",
       "\n",
       "    .dataframe tbody tr th {\n",
       "        vertical-align: top;\n",
       "    }\n",
       "\n",
       "    .dataframe thead th {\n",
       "        text-align: right;\n",
       "    }\n",
       "</style>\n",
       "<table border=\"1\" class=\"dataframe\">\n",
       "  <thead>\n",
       "    <tr style=\"text-align: right;\">\n",
       "      <th></th>\n",
       "      <th>FTSE100</th>\n",
       "      <th>CAC40</th>\n",
       "      <th>DAX</th>\n",
       "    </tr>\n",
       "    <tr>\n",
       "      <th>Date</th>\n",
       "      <th></th>\n",
       "      <th></th>\n",
       "      <th></th>\n",
       "    </tr>\n",
       "  </thead>\n",
       "  <tbody>\n",
       "    <tr>\n",
       "      <th>2004-07-23</th>\n",
       "      <td>0.004634</td>\n",
       "      <td>-0.001555</td>\n",
       "      <td>-0.000979</td>\n",
       "    </tr>\n",
       "    <tr>\n",
       "      <th>2004-07-26</th>\n",
       "      <td>-0.009125</td>\n",
       "      <td>-0.009769</td>\n",
       "      <td>-0.011852</td>\n",
       "    </tr>\n",
       "    <tr>\n",
       "      <th>2004-07-27</th>\n",
       "      <td>0.008802</td>\n",
       "      <td>0.009155</td>\n",
       "      <td>0.016253</td>\n",
       "    </tr>\n",
       "    <tr>\n",
       "      <th>2004-07-28</th>\n",
       "      <td>0.007234</td>\n",
       "      <td>0.003030</td>\n",
       "      <td>-0.001803</td>\n",
       "    </tr>\n",
       "    <tr>\n",
       "      <th>2004-07-29</th>\n",
       "      <td>0.014223</td>\n",
       "      <td>0.018802</td>\n",
       "      <td>0.021430</td>\n",
       "    </tr>\n",
       "    <tr>\n",
       "      <th>...</th>\n",
       "      <td>...</td>\n",
       "      <td>...</td>\n",
       "      <td>...</td>\n",
       "    </tr>\n",
       "    <tr>\n",
       "      <th>2005-12-08</th>\n",
       "      <td>0.000416</td>\n",
       "      <td>0.002004</td>\n",
       "      <td>0.003790</td>\n",
       "    </tr>\n",
       "    <tr>\n",
       "      <th>2005-12-09</th>\n",
       "      <td>-0.002480</td>\n",
       "      <td>-0.001912</td>\n",
       "      <td>-0.000874</td>\n",
       "    </tr>\n",
       "    <tr>\n",
       "      <th>2005-12-12</th>\n",
       "      <td>-0.002886</td>\n",
       "      <td>0.002597</td>\n",
       "      <td>0.003606</td>\n",
       "    </tr>\n",
       "    <tr>\n",
       "      <th>2005-12-13</th>\n",
       "      <td>0.001036</td>\n",
       "      <td>0.004328</td>\n",
       "      <td>0.001709</td>\n",
       "    </tr>\n",
       "    <tr>\n",
       "      <th>2005-12-14</th>\n",
       "      <td>0.002521</td>\n",
       "      <td>-0.003960</td>\n",
       "      <td>-0.004439</td>\n",
       "    </tr>\n",
       "  </tbody>\n",
       "</table>\n",
       "<p>346 rows × 3 columns</p>\n",
       "</div>"
      ],
      "text/plain": [
       "             FTSE100     CAC40       DAX\n",
       "Date                                    \n",
       "2004-07-23  0.004634 -0.001555 -0.000979\n",
       "2004-07-26 -0.009125 -0.009769 -0.011852\n",
       "2004-07-27  0.008802  0.009155  0.016253\n",
       "2004-07-28  0.007234  0.003030 -0.001803\n",
       "2004-07-29  0.014223  0.018802  0.021430\n",
       "...              ...       ...       ...\n",
       "2005-12-08  0.000416  0.002004  0.003790\n",
       "2005-12-09 -0.002480 -0.001912 -0.000874\n",
       "2005-12-12 -0.002886  0.002597  0.003606\n",
       "2005-12-13  0.001036  0.004328  0.001709\n",
       "2005-12-14  0.002521 -0.003960 -0.004439\n",
       "\n",
       "[346 rows x 3 columns]"
      ]
     },
     "execution_count": 246,
     "metadata": {},
     "output_type": "execute_result"
    }
   ],
   "source": [
    "log_retono"
   ]
  },
  {
   "cell_type": "code",
   "execution_count": 247,
   "id": "b778b31e-f174-45c9-b85d-070befab9b02",
   "metadata": {},
   "outputs": [],
   "source": [
    "retorno_portafolio = log_retono.dot(pesos)"
   ]
  },
  {
   "cell_type": "code",
   "execution_count": 248,
   "id": "40ced3a7-36f1-42a1-9122-a30717fa500e",
   "metadata": {},
   "outputs": [
    {
     "data": {
      "text/plain": [
       "Date\n",
       "2004-07-23    0.000693\n",
       "2004-07-26   -0.010146\n",
       "2004-07-27    0.011289\n",
       "2004-07-28    0.002792\n",
       "2004-07-29    0.017970\n",
       "                ...   \n",
       "2005-12-08    0.002049\n",
       "2005-12-09   -0.001738\n",
       "2005-12-12    0.001095\n",
       "2005-12-13    0.002334\n",
       "2005-12-14   -0.001940\n",
       "Length: 346, dtype: float64"
      ]
     },
     "execution_count": 248,
     "metadata": {},
     "output_type": "execute_result"
    }
   ],
   "source": [
    "retorno_portafolio"
   ]
  },
  {
   "cell_type": "code",
   "execution_count": 249,
   "id": "b52a5acf-838e-4a7e-ba8e-2b4fe6828896",
   "metadata": {},
   "outputs": [],
   "source": [
    "dfi['Retorno diario'] = retorno_portafolio"
   ]
  },
  {
   "cell_type": "code",
   "execution_count": 250,
   "id": "a07f9f35-dc90-427e-a7cf-ce49d79c17e1",
   "metadata": {},
   "outputs": [],
   "source": [
    "dfi['Saldo'] = retorno_portafolio * inversion + inversion"
   ]
  },
  {
   "cell_type": "code",
   "execution_count": 251,
   "id": "d4081098-2be0-43cf-9ea0-429a11ce12c3",
   "metadata": {},
   "outputs": [
    {
     "data": {
      "text/html": [
       "<div>\n",
       "<style scoped>\n",
       "    .dataframe tbody tr th:only-of-type {\n",
       "        vertical-align: middle;\n",
       "    }\n",
       "\n",
       "    .dataframe tbody tr th {\n",
       "        vertical-align: top;\n",
       "    }\n",
       "\n",
       "    .dataframe thead th {\n",
       "        text-align: right;\n",
       "    }\n",
       "</style>\n",
       "<table border=\"1\" class=\"dataframe\">\n",
       "  <thead>\n",
       "    <tr style=\"text-align: right;\">\n",
       "      <th></th>\n",
       "      <th>FTSE100</th>\n",
       "      <th>CAC40</th>\n",
       "      <th>DAX</th>\n",
       "      <th>Retorno diario</th>\n",
       "      <th>Saldo</th>\n",
       "    </tr>\n",
       "    <tr>\n",
       "      <th>Date</th>\n",
       "      <th></th>\n",
       "      <th></th>\n",
       "      <th></th>\n",
       "      <th></th>\n",
       "      <th></th>\n",
       "    </tr>\n",
       "  </thead>\n",
       "  <tbody>\n",
       "    <tr>\n",
       "      <th>2004-07-23</th>\n",
       "      <td>4326.299805</td>\n",
       "      <td>3567.290039</td>\n",
       "      <td>3797.330078</td>\n",
       "      <td>0.000693</td>\n",
       "      <td>1000.692951</td>\n",
       "    </tr>\n",
       "    <tr>\n",
       "      <th>2004-07-26</th>\n",
       "      <td>4287.000000</td>\n",
       "      <td>3532.610107</td>\n",
       "      <td>3752.590088</td>\n",
       "      <td>-0.010146</td>\n",
       "      <td>989.853633</td>\n",
       "    </tr>\n",
       "    <tr>\n",
       "      <th>2004-07-27</th>\n",
       "      <td>4324.899902</td>\n",
       "      <td>3565.100098</td>\n",
       "      <td>3814.080078</td>\n",
       "      <td>0.011289</td>\n",
       "      <td>1011.289348</td>\n",
       "    </tr>\n",
       "    <tr>\n",
       "      <th>2004-07-28</th>\n",
       "      <td>4356.299805</td>\n",
       "      <td>3575.919922</td>\n",
       "      <td>3807.209961</td>\n",
       "      <td>0.002792</td>\n",
       "      <td>1002.792291</td>\n",
       "    </tr>\n",
       "    <tr>\n",
       "      <th>2004-07-29</th>\n",
       "      <td>4418.700195</td>\n",
       "      <td>3643.790039</td>\n",
       "      <td>3889.679932</td>\n",
       "      <td>0.017970</td>\n",
       "      <td>1017.970049</td>\n",
       "    </tr>\n",
       "    <tr>\n",
       "      <th>...</th>\n",
       "      <td>...</td>\n",
       "      <td>...</td>\n",
       "      <td>...</td>\n",
       "      <td>...</td>\n",
       "      <td>...</td>\n",
       "    </tr>\n",
       "    <tr>\n",
       "      <th>2005-12-08</th>\n",
       "      <td>5531.100098</td>\n",
       "      <td>4669.930176</td>\n",
       "      <td>5286.750000</td>\n",
       "      <td>0.002049</td>\n",
       "      <td>1002.049427</td>\n",
       "    </tr>\n",
       "    <tr>\n",
       "      <th>2005-12-09</th>\n",
       "      <td>5517.399902</td>\n",
       "      <td>4661.009766</td>\n",
       "      <td>5282.129883</td>\n",
       "      <td>-0.001738</td>\n",
       "      <td>998.262119</td>\n",
       "    </tr>\n",
       "    <tr>\n",
       "      <th>2005-12-12</th>\n",
       "      <td>5501.500000</td>\n",
       "      <td>4673.129883</td>\n",
       "      <td>5301.209961</td>\n",
       "      <td>0.001095</td>\n",
       "      <td>1001.094510</td>\n",
       "    </tr>\n",
       "    <tr>\n",
       "      <th>2005-12-13</th>\n",
       "      <td>5507.200195</td>\n",
       "      <td>4693.399902</td>\n",
       "      <td>5310.279785</td>\n",
       "      <td>0.002334</td>\n",
       "      <td>1002.334157</td>\n",
       "    </tr>\n",
       "    <tr>\n",
       "      <th>2005-12-14</th>\n",
       "      <td>5521.100098</td>\n",
       "      <td>4674.850098</td>\n",
       "      <td>5286.759766</td>\n",
       "      <td>-0.001940</td>\n",
       "      <td>998.060140</td>\n",
       "    </tr>\n",
       "  </tbody>\n",
       "</table>\n",
       "<p>346 rows × 5 columns</p>\n",
       "</div>"
      ],
      "text/plain": [
       "                FTSE100        CAC40          DAX  Retorno diario        Saldo\n",
       "Date                                                                          \n",
       "2004-07-23  4326.299805  3567.290039  3797.330078        0.000693  1000.692951\n",
       "2004-07-26  4287.000000  3532.610107  3752.590088       -0.010146   989.853633\n",
       "2004-07-27  4324.899902  3565.100098  3814.080078        0.011289  1011.289348\n",
       "2004-07-28  4356.299805  3575.919922  3807.209961        0.002792  1002.792291\n",
       "2004-07-29  4418.700195  3643.790039  3889.679932        0.017970  1017.970049\n",
       "...                 ...          ...          ...             ...          ...\n",
       "2005-12-08  5531.100098  4669.930176  5286.750000        0.002049  1002.049427\n",
       "2005-12-09  5517.399902  4661.009766  5282.129883       -0.001738   998.262119\n",
       "2005-12-12  5501.500000  4673.129883  5301.209961        0.001095  1001.094510\n",
       "2005-12-13  5507.200195  4693.399902  5310.279785        0.002334  1002.334157\n",
       "2005-12-14  5521.100098  4674.850098  5286.759766       -0.001940   998.060140\n",
       "\n",
       "[346 rows x 5 columns]"
      ]
     },
     "execution_count": 251,
     "metadata": {},
     "output_type": "execute_result"
    }
   ],
   "source": [
    "dfi.dropna()driv"
   ]
  },
  {
   "cell_type": "markdown",
   "id": "bf23fab8-ab87-4d3c-a14d-3229077b4dcd",
   "metadata": {},
   "source": [
    "**Respuesta a él comente**: El análisis de rentabilidades que hemos estado haciendo y que calculamos es un rendimiento que toma en cuenta solamente los precios históricos. ¿Que quiere decir eso, que la rentabilidad real del banco no fue exactamente la que se muestra en el dataframe, porque se debe esto? \n",
    "\n",
    "Porque rendimiento total es el ingreso total obtenido a partir de una inversión, incluidas las ganancias de capital, durante un período de tiempo dado. El rendimiento total, también conocido como rendimiento anualizado, es importante para los inversores. Su cálculo permite realizar un seguimiento preciso y eficiente del 100% del rendimiento de su inversión. El precio de las acciones/fondos por sí solo no da una imagen completa de cómo se está comportando esa acción. Al agregar otras métricas clave, como dividendos, repartos y ganancias de capital, se obtiene una imagen más completa del valor de la inversión en acciones.\n",
    "\n",
    "Por tanto, al rendimiento total de la inversión para que sea real debemos agregarle:\n",
    "\n",
    "- Dividendos recibidos en caso de que existan\n",
    "- Inflación la cual se restara al rendimiento total\n",
    "- Costos de inversión\n",
    "- Entre otros, pueden existir en toros tipos de inversiones, Intereses, Plusvalías, repartos, renta, etc.\n",
    "\n",
    "Ejemplo: Si la rentabilidad hubiese sido 5% de la cartera hubiésemos tenido perdida debido a que la inflación por ejemplo de USA es de 8.2%, por tanto, en ese caso podríamos decir que junto con la inflación tendríamos una rentabilidad real de la cartera del banco.\n"
   ]
  },
  {
   "cell_type": "markdown",
   "id": "50ea4fe7-4462-4e27-8113-8b26899ebcfd",
   "metadata": {},
   "source": [
    "# D)"
   ]
  },
  {
   "cell_type": "markdown",
   "id": "46688e7f-2931-41ed-b552-0a9455d473ed",
   "metadata": {},
   "source": [
    "### VaR Simulacion historica"
   ]
  },
  {
   "cell_type": "markdown",
   "id": "31267c53-3267-416a-bfab-fb4642acc1f4",
   "metadata": {},
   "source": [
    "- Para obtener el VaR al 95% de confianza, primero obtenemos los retornos históricos de la serie y luego se debe calcular el percentil 5% sobre la serie de retornos históricos."
   ]
  },
  {
   "cell_type": "code",
   "execution_count": 266,
   "id": "97027ddc-9372-4cb5-a15a-f16691229a15",
   "metadata": {},
   "outputs": [
    {
     "data": {
      "text/html": [
       "<div>\n",
       "<style scoped>\n",
       "    .dataframe tbody tr th:only-of-type {\n",
       "        vertical-align: middle;\n",
       "    }\n",
       "\n",
       "    .dataframe tbody tr th {\n",
       "        vertical-align: top;\n",
       "    }\n",
       "\n",
       "    .dataframe thead th {\n",
       "        text-align: right;\n",
       "    }\n",
       "</style>\n",
       "<table border=\"1\" class=\"dataframe\">\n",
       "  <thead>\n",
       "    <tr style=\"text-align: right;\">\n",
       "      <th></th>\n",
       "      <th>FTSE100</th>\n",
       "      <th>CAC40</th>\n",
       "      <th>DAX</th>\n",
       "      <th>Retorno diario</th>\n",
       "      <th>Saldo</th>\n",
       "    </tr>\n",
       "    <tr>\n",
       "      <th>Date</th>\n",
       "      <th></th>\n",
       "      <th></th>\n",
       "      <th></th>\n",
       "      <th></th>\n",
       "      <th></th>\n",
       "    </tr>\n",
       "  </thead>\n",
       "  <tbody>\n",
       "    <tr>\n",
       "      <th>2004-07-22</th>\n",
       "      <td>4306.299805</td>\n",
       "      <td>3572.840088</td>\n",
       "      <td>3801.050049</td>\n",
       "      <td>NaN</td>\n",
       "      <td>NaN</td>\n",
       "    </tr>\n",
       "    <tr>\n",
       "      <th>2004-07-23</th>\n",
       "      <td>4326.299805</td>\n",
       "      <td>3567.290039</td>\n",
       "      <td>3797.330078</td>\n",
       "      <td>0.000693</td>\n",
       "      <td>1000.692951</td>\n",
       "    </tr>\n",
       "    <tr>\n",
       "      <th>2004-07-26</th>\n",
       "      <td>4287.000000</td>\n",
       "      <td>3532.610107</td>\n",
       "      <td>3752.590088</td>\n",
       "      <td>-0.010146</td>\n",
       "      <td>989.853633</td>\n",
       "    </tr>\n",
       "    <tr>\n",
       "      <th>2004-07-27</th>\n",
       "      <td>4324.899902</td>\n",
       "      <td>3565.100098</td>\n",
       "      <td>3814.080078</td>\n",
       "      <td>0.011289</td>\n",
       "      <td>1011.289348</td>\n",
       "    </tr>\n",
       "    <tr>\n",
       "      <th>2004-07-28</th>\n",
       "      <td>4356.299805</td>\n",
       "      <td>3575.919922</td>\n",
       "      <td>3807.209961</td>\n",
       "      <td>0.002792</td>\n",
       "      <td>1002.792291</td>\n",
       "    </tr>\n",
       "    <tr>\n",
       "      <th>...</th>\n",
       "      <td>...</td>\n",
       "      <td>...</td>\n",
       "      <td>...</td>\n",
       "      <td>...</td>\n",
       "      <td>...</td>\n",
       "    </tr>\n",
       "    <tr>\n",
       "      <th>2005-12-08</th>\n",
       "      <td>5531.100098</td>\n",
       "      <td>4669.930176</td>\n",
       "      <td>5286.750000</td>\n",
       "      <td>0.002049</td>\n",
       "      <td>1002.049427</td>\n",
       "    </tr>\n",
       "    <tr>\n",
       "      <th>2005-12-09</th>\n",
       "      <td>5517.399902</td>\n",
       "      <td>4661.009766</td>\n",
       "      <td>5282.129883</td>\n",
       "      <td>-0.001738</td>\n",
       "      <td>998.262119</td>\n",
       "    </tr>\n",
       "    <tr>\n",
       "      <th>2005-12-12</th>\n",
       "      <td>5501.500000</td>\n",
       "      <td>4673.129883</td>\n",
       "      <td>5301.209961</td>\n",
       "      <td>0.001095</td>\n",
       "      <td>1001.094510</td>\n",
       "    </tr>\n",
       "    <tr>\n",
       "      <th>2005-12-13</th>\n",
       "      <td>5507.200195</td>\n",
       "      <td>4693.399902</td>\n",
       "      <td>5310.279785</td>\n",
       "      <td>0.002334</td>\n",
       "      <td>1002.334157</td>\n",
       "    </tr>\n",
       "    <tr>\n",
       "      <th>2005-12-14</th>\n",
       "      <td>5521.100098</td>\n",
       "      <td>4674.850098</td>\n",
       "      <td>5286.759766</td>\n",
       "      <td>-0.001940</td>\n",
       "      <td>998.060140</td>\n",
       "    </tr>\n",
       "  </tbody>\n",
       "</table>\n",
       "<p>365 rows × 5 columns</p>\n",
       "</div>"
      ],
      "text/plain": [
       "                FTSE100        CAC40          DAX  Retorno diario        Saldo\n",
       "Date                                                                          \n",
       "2004-07-22  4306.299805  3572.840088  3801.050049             NaN          NaN\n",
       "2004-07-23  4326.299805  3567.290039  3797.330078        0.000693  1000.692951\n",
       "2004-07-26  4287.000000  3532.610107  3752.590088       -0.010146   989.853633\n",
       "2004-07-27  4324.899902  3565.100098  3814.080078        0.011289  1011.289348\n",
       "2004-07-28  4356.299805  3575.919922  3807.209961        0.002792  1002.792291\n",
       "...                 ...          ...          ...             ...          ...\n",
       "2005-12-08  5531.100098  4669.930176  5286.750000        0.002049  1002.049427\n",
       "2005-12-09  5517.399902  4661.009766  5282.129883       -0.001738   998.262119\n",
       "2005-12-12  5501.500000  4673.129883  5301.209961        0.001095  1001.094510\n",
       "2005-12-13  5507.200195  4693.399902  5310.279785        0.002334  1002.334157\n",
       "2005-12-14  5521.100098  4674.850098  5286.759766       -0.001940   998.060140\n",
       "\n",
       "[365 rows x 5 columns]"
      ]
     },
     "execution_count": 266,
     "metadata": {},
     "output_type": "execute_result"
    }
   ],
   "source": [
    "dfi"
   ]
  },
  {
   "cell_type": "code",
   "execution_count": 297,
   "id": "54ae6bb8-e589-4fa8-9020-afb2e0a3e2b0",
   "metadata": {},
   "outputs": [],
   "source": [
    "dfinal = dfi.to_csv('cuantiles.csv') #podemos exportar para posterior uso o corroboracion en excel u otros."
   ]
  },
  {
   "cell_type": "code",
   "execution_count": 298,
   "id": "5f713c08-d335-4b75-8b4f-c507bd85d01c",
   "metadata": {},
   "outputs": [
    {
     "data": {
      "text/plain": [
       "count    346.000000\n",
       "mean       0.000772\n",
       "std        0.006629\n",
       "min       -0.023248\n",
       "25%       -0.003037\n",
       "50%        0.000938\n",
       "75%        0.004973\n",
       "max        0.022916\n",
       "Name: Retorno diario, dtype: float64"
      ]
     },
     "execution_count": 298,
     "metadata": {},
     "output_type": "execute_result"
    }
   ],
   "source": [
    "dfi['Retorno diario'].describe()"
   ]
  },
  {
   "cell_type": "code",
   "execution_count": 304,
   "id": "9b47ca50-0b89-4314-add3-b18216bf9d24",
   "metadata": {},
   "outputs": [
    {
     "data": {
      "text/plain": [
       "<seaborn.axisgrid.FacetGrid at 0x128697cd0>"
      ]
     },
     "execution_count": 304,
     "metadata": {},
     "output_type": "execute_result"
    },
    {
     "data": {
      "image/png": "[encoded data removed]",
      "text/plain": [
       "<Figure size 360x360 with 1 Axes>"
      ]
     },
     "metadata": {
      "needs_background": "light"
     },
     "output_type": "display_data"
    }
   ],
   "source": [
    "sns.displot(dfi['FTSE100'])"
   ]
  },
  {
   "cell_type": "code",
   "execution_count": 305,
   "id": "08757f39-beae-4ff2-b398-9083f4ace7bc",
   "metadata": {},
   "outputs": [
    {
     "data": {
      "text/plain": [
       "<seaborn.axisgrid.FacetGrid at 0x1285908b0>"
      ]
     },
     "execution_count": 305,
     "metadata": {},
     "output_type": "execute_result"
    },
    {
     "data": {
      "image/png": "[encoded data removed]",
      "text/plain": [
       "<Figure size 360x360 with 1 Axes>"
      ]
     },
     "metadata": {
      "needs_background": "light"
     },
     "output_type": "display_data"
    }
   ],
   "source": [
    "sns.displot(dfi['CAC40'])"
   ]
  },
  {
   "cell_type": "code",
   "execution_count": 306,
   "id": "923e10ee-c2b3-4cdd-a6af-d7d950240308",
   "metadata": {},
   "outputs": [
    {
     "data": {
      "text/plain": [
       "<seaborn.axisgrid.FacetGrid at 0x127c795b0>"
      ]
     },
     "execution_count": 306,
     "metadata": {},
     "output_type": "execute_result"
    },
    {
     "data": {
      "image/png": "[encoded data removed]",
      "text/plain": [
       "<Figure size 360x360 with 1 Axes>"
      ]
     },
     "metadata": {
      "needs_background": "light"
     },
     "output_type": "display_data"
    }
   ],
   "source": [
    "sns.displot(dfi['DAX'])"
   ]
  },
  {
   "cell_type": "code",
   "execution_count": 307,
   "id": "25804870-08d4-457f-9009-470fe5042101",
   "metadata": {},
   "outputs": [
    {
     "data": {
      "text/plain": [
       "<seaborn.axisgrid.FacetGrid at 0x127e0acd0>"
      ]
     },
     "execution_count": 307,
     "metadata": {},
     "output_type": "execute_result"
    },
    {
     "data": {
      "image/png": "[encoded data removed]",
      "text/plain": [
       "<Figure size 360x360 with 1 Axes>"
      ]
     },
     "metadata": {
      "needs_background": "light"
     },
     "output_type": "display_data"
    }
   ],
   "source": [
    "sns.displot(dfi['Retorno diario'])"
   ]
  },
  {
   "cell_type": "markdown",
   "id": "d58ef37c-381c-4469-9acb-686cc457f8fb",
   "metadata": {},
   "source": [
    "- ## VaR al 95% de confianza"
   ]
  },
  {
   "cell_type": "code",
   "execution_count": 361,
   "id": "5cc44630-11ac-4677-a244-2ffdf4b01f1e",
   "metadata": {},
   "outputs": [
    {
     "name": "stdout",
     "output_type": "stream",
     "text": [
      "El var de la cartera con un nivel de confianza del 95% es -0.01014355377304226%\n"
     ]
    }
   ],
   "source": [
    "per1 = dfi['Retorno diario'].quantile(0.05)\n",
    "\n",
    "print('El var de la cartera con un nivel de confianza del 95% es ' + str (per1) + '%')"
   ]
  },
  {
   "cell_type": "markdown",
   "id": "637e97a5-e799-4be5-8daf-8820465526f9",
   "metadata": {},
   "source": [
    "- Opcion 2) Calculo Var y multiplico por la cantidad invertida"
   ]
  },
  {
   "cell_type": "code",
   "execution_count": 362,
   "id": "f70694b3-8a19-4fd7-af68-47a1b23103e2",
   "metadata": {},
   "outputs": [],
   "source": [
    "def value_at_risk(value_invested, returns, weights, alpha=0.95, lookback_days=392):\n",
    "    \n",
    "    returns = returns.fillna(0.0)\n",
    "    \n",
    "    # Multiplique la rentabilidad de los activos por las ponderaciones para obtener una rentabilidad ponderada de la cartera\n",
    "    portfolio_returns = returns.iloc[-lookback_days:].dot(weights)\n",
    "    \n",
    "    # Calcule la pérdida percentil correcta y multiplíquela por el valor invertido\n",
    "    return np.percentile(portfolio_returns, 100 * (1-alpha)) * value_invested"
   ]
  },
  {
   "cell_type": "code",
   "execution_count": 363,
   "id": "46e54d07-3d2e-49a4-8773-8bd8a87b4119",
   "metadata": {},
   "outputs": [
    {
     "data": {
      "text/plain": [
       "-10.14355377304226"
      ]
     },
     "execution_count": 363,
     "metadata": {},
     "output_type": "execute_result"
    }
   ],
   "source": [
    "value_at_risk(1000,log_retono,pesos,0.95,392)"
   ]
  },
  {
   "cell_type": "markdown",
   "id": "44749501-e89e-45f3-817d-bb2f0544965d",
   "metadata": {},
   "source": [
    "- Calculo y vizualizacion"
   ]
  },
  {
   "cell_type": "code",
   "execution_count": 366,
   "id": "efbbf909-d406-4795-9ad5-8b1d655123ea",
   "metadata": {},
   "outputs": [],
   "source": [
    "value_invested = 1000"
   ]
  },
  {
   "cell_type": "code",
   "execution_count": 367,
   "id": "c2d9b585-5c5c-443c-a762-8e5726a39c5f",
   "metadata": {},
   "outputs": [
    {
     "data": {
      "image/png": "[encoded data removed]",
      "text/plain": [
       "<Figure size 432x288 with 1 Axes>"
      ]
     },
     "metadata": {
      "needs_background": "light"
     },
     "output_type": "display_data"
    }
   ],
   "source": [
    "lookback_days = 392\n",
    "alpha = 0.95\n",
    "\n",
    "# Multiplique los rendimientos de los activos por las ponderaciones para obtener un rendimiento ponderado de la cartera.\n",
    "portfolio_returns = returns.fillna(0.0).iloc[-lookback_days:].dot(pesos)\n",
    "\n",
    "portfolio_VaR = value_at_risk(value_invested, returns, pesos, alpha=0.95)\n",
    "# Necesidad de expresarlo como rendimiento en lugar de pérdida absoluta.\n",
    "portfolio_VaR_return = portfolio_VaR / value_invested\n",
    "\n",
    "plt.hist(portfolio_returns.values, bins=20)\n",
    "plt.axvline(portfolio_VaR_return, color='red', linestyle='solid');\n",
    "plt.legend(['VaR for Specified Alpha as a Return', 'Historical Returns Distribution'])\n",
    "plt.title('Historical VaR');"
   ]
  },
  {
   "cell_type": "markdown",
   "id": "7ee10cea-4766-43e4-97b8-32e8c43685c0",
   "metadata": {},
   "source": [
    "- ### VaR al 99% de confianza"
   ]
  },
  {
   "cell_type": "code",
   "execution_count": 368,
   "id": "46b7467f-d912-4f0f-8b96-68d6b6c586e9",
   "metadata": {},
   "outputs": [
    {
     "name": "stdout",
     "output_type": "stream",
     "text": [
      "El var de la cartera con un nivel de confianza del 99% es -0.01721736421955753%\n"
     ]
    }
   ],
   "source": [
    "per2 = dfi['Retorno diario'].quantile(0.01)\n",
    "\n",
    "print('El var de la cartera con un nivel de confianza del 99% es ' + str (per2) + '%')"
   ]
  },
  {
   "cell_type": "markdown",
   "id": "9b32913f-d767-4281-a143-daedb1059aec",
   "metadata": {},
   "source": [
    "- Opcion 2) Calculo Var y multiplico por la cantidad invertida"
   ]
  },
  {
   "cell_type": "code",
   "execution_count": 369,
   "id": "cf0c8098-7253-4a28-be52-70f1e2c1a05b",
   "metadata": {},
   "outputs": [],
   "source": [
    "def value_at_risk(value_invested, returns, weights, alpha=0.99, lookback_days=392):\n",
    "    \n",
    "    returns = returns.fillna(0.0)\n",
    "    \n",
    "    # Multiplique la rentabilidad de los activos por las ponderaciones para obtener una rentabilidad ponderada de la cartera\n",
    "    portfolio_returns = returns.iloc[-lookback_days:].dot(weights)\n",
    "    \n",
    "    # Calcule la pérdida percentil correcta y multiplíquela por el valor invertido\n",
    "    return np.percentile(portfolio_returns, 100 * (1-alpha)) * value_invested"
   ]
  },
  {
   "cell_type": "code",
   "execution_count": 370,
   "id": "bf20ac72-08c3-431a-b71c-a793ce96ca06",
   "metadata": {},
   "outputs": [
    {
     "data": {
      "text/plain": [
       "-17.217364219557528"
      ]
     },
     "execution_count": 370,
     "metadata": {},
     "output_type": "execute_result"
    }
   ],
   "source": [
    "value_at_risk(1000,log_retono,pesos,0.99,392)"
   ]
  },
  {
   "cell_type": "markdown",
   "id": "fed7491c-9141-442d-bb44-e7e8ab095181",
   "metadata": {},
   "source": [
    "- Calculo y vizualizacion"
   ]
  },
  {
   "cell_type": "code",
   "execution_count": 373,
   "id": "aa8704a0-c5f7-4027-ba99-993d806aca03",
   "metadata": {},
   "outputs": [],
   "source": [
    "value_invested = 1000"
   ]
  },
  {
   "cell_type": "code",
   "execution_count": 374,
   "id": "94737762-67bf-4020-b420-af1d3714d19b",
   "metadata": {},
   "outputs": [
    {
     "data": {
      "image/png": "[encoded data removed]",
      "text/plain": [
       "<Figure size 432x288 with 1 Axes>"
      ]
     },
     "metadata": {
      "needs_background": "light"
     },
     "output_type": "display_data"
    }
   ],
   "source": [
    "lookback_days = 392\n",
    "alpha = 0.99\n",
    "\n",
    "# Multiplique los rendimientos de los activos por las ponderaciones para obtener un rendimiento ponderado de la cartera.\n",
    "portfolio_returns = returns.fillna(0.0).iloc[-lookback_days:].dot(pesos)\n",
    "\n",
    "portfolio_VaR = value_at_risk(value_invested, returns, pesos, alpha=0.95)\n",
    "# Necesidad de expresarlo como rendimiento en lugar de pérdida absoluta.\n",
    "portfolio_VaR_return = portfolio_VaR / value_invested\n",
    "\n",
    "plt.hist(portfolio_returns.values, bins=20)\n",
    "plt.axvline(portfolio_VaR_return, color='red', linestyle='solid');\n",
    "plt.legend(['VaR for Specified Alpha as a Return', 'Historical Returns Distribution'])\n",
    "plt.title('Historical VaR');"
   ]
  },
  {
   "cell_type": "markdown",
   "id": "b212f0de-f529-4f58-ac16-8dc7e00e9973",
   "metadata": {},
   "source": [
    "- Fotos de simbologia resultados VaR"
   ]
  },
  {
   "cell_type": "markdown",
   "id": "b106549e-f515-454b-aece-acda5b7c1376",
   "metadata": {},
   "source": [
    "<img src=\"dist.png\">"
   ]
  },
  {
   "cell_type": "markdown",
   "id": "c48896f7-05fa-4b7f-9f72-e043d68d077e",
   "metadata": {},
   "source": [
    "<img src=\"dist2.png\">"
   ]
  },
  {
   "cell_type": "markdown",
   "id": "590e102d-9d3b-48a4-964a-58741f34b408",
   "metadata": {},
   "source": [
    "# e)"
   ]
  },
  {
   "cell_type": "markdown",
   "id": "d8f3a792-3a81-4a46-8af6-0d33f05cb03e",
   "metadata": {},
   "source": [
    "### ES -----> Expected Shortfall / VaR Condicional"
   ]
  },
  {
   "cell_type": "markdown",
   "id": "eef3b270-4089-4ba0-a5ee-d7611f724827",
   "metadata": {},
   "source": [
    "- \"Que tan mal pueden ponerse las cosas\", cual seria en se caso la perdida esperada."
   ]
  },
  {
   "cell_type": "markdown",
   "id": "f231b079-b144-4650-ac85-c071a3f92e47",
   "metadata": {},
   "source": [
    "<img src=\"IMG_1788.jpg\">"
   ]
  },
  {
   "cell_type": "code",
   "execution_count": 382,
   "id": "3c36139f-3b3c-4c13-9782-01daa790d067",
   "metadata": {},
   "outputs": [],
   "source": [
    "def cvar(value_invested, returns, pesos, alpha=0.95, lookback_days=392):\n",
    "   # Calculemos el CVaR con nuestros datos y veamos cómo se compara con el VaR\n",
    "    var = value_at_risk(value_invested, returns, pesos, alpha, lookback_days=lookback_days)\n",
    "    returns = returns.fillna(0.0)\n",
    "    portfolio_returns = returns.iloc[-lookback_days:].dot(pesos)\n",
    "    \n",
    "   # Volver a un retorno en lugar de una pérdida absoluta\n",
    "    var_pct_loss = var / value_invested\n",
    "    \n",
    "    return value_invested * np.nanmean(portfolio_returns[portfolio_returns < var_pct_loss])"
   ]
  },
  {
   "cell_type": "markdown",
   "id": "3ebc8aed-da4e-47fb-a9bc-32efb0e8cce2",
   "metadata": {},
   "source": [
    "- Calculemos el CVaR con nuestros datos y veamos cómo se compara con el VaR."
   ]
  },
  {
   "cell_type": "code",
   "execution_count": 385,
   "id": "de9b4204-4c88-4aba-8621-cdd6b508cc9b",
   "metadata": {},
   "outputs": [
    {
     "data": {
      "text/plain": [
       "-13.919635660122296"
      ]
     },
     "execution_count": 385,
     "metadata": {},
     "output_type": "execute_result"
    }
   ],
   "source": [
    "cvar(value_invested, returns, pesos, lookback_days=392) # 392 dias"
   ]
  },
  {
   "cell_type": "code",
   "execution_count": 386,
   "id": "03801642-d05f-416d-841b-0c18adb155b5",
   "metadata": {},
   "outputs": [
    {
     "data": {
      "text/plain": [
       "-16.917170241784614"
      ]
     },
     "execution_count": 386,
     "metadata": {},
     "output_type": "execute_result"
    }
   ],
   "source": [
    "value_at_risk(value_invested, returns, pesos, lookback_days= 392)"
   ]
  },
  {
   "cell_type": "markdown",
   "id": "5281b80b-dcee-4478-803f-038dea3d2850",
   "metadata": {},
   "source": [
    "- El CVaR  capta más información sobre la forma de la distribución, es decir, los momentos de la distribución. Si las colas tienen más masa, esto lo captará. En general, se considera una métrica muy superior a la del VaR y, en la mayoría de los casos, debería utilizarse antes que ésta."
   ]
  },
  {
   "cell_type": "markdown",
   "id": "e6937986-d348-4c51-9ae2-7fbfebe842d3",
   "metadata": {},
   "source": [
    "# f)"
   ]
  },
  {
   "cell_type": "markdown",
   "id": "75c174b5-0466-4504-aa6c-f829c53f4c19",
   "metadata": {},
   "source": [
    "- Comparamos los valores obtenidos para el VaR con el método de simulación histórica  y los obtenidos con el método de varianza-covarianza "
   ]
  },
  {
   "cell_type": "markdown",
   "id": "06b00d1a-9a5b-4cd0-b584-984938db38ff",
   "metadata": {},
   "source": [
    "1. VaR Analítica / Paramétrica: Utiliza información histórica para calcular volatilidades y correlaciones de las variables de mercado que se aplican al valor actual de la cartera con un modelo de cálculo estadístico, asumiendo la forma de la función de distribución de los rendimientos de los activos como una normal.\n",
    "2. VaR Simulación Histórica: En lugar de utilizar la información histórica para calcular volatilidades y correlaciones de los activos de la cartera, se estudian las pérdidas y ganancias que habría experimentado la cartera actual si se hubieran producido, aleatoriamente, las rentabilidades históricas del conjunto de activos que definen los nodos de riesgo estándar. Una vez obtenidas las pérdidas y ganancias hipotéticas para cada día del periodo de observación, se puede generar una distribución de rentabilidades esperadas y tomar los percentiles de dicha distribución como medida directa del VaR. Al contrario que la metodología paramétrica, no asume ninguna forma de la función de distribución de los rendimientos de los activos.\n",
    "\n",
    "En general, la Metodología Analítica se va a recomendar cuando la cartera no contenga posiciones en derivados de consideración y se va a desaconsejar cuando la cartera contenga posiciones de consideración en instrumentos no lineales y las distribuciones de las rentabilidades no sean normales.\n",
    "La Simulación Histórica es recomendable cuando el pasado reciente sea representativo del riesgo presente en la cartera y cuando tengamos posiciones no lineales de consideración en la cartera. Por el contrario, se va a desaconsejar cuando el pasado reciente no sea representativo del futuro.\n",
    "\n",
    "Por tanto, en este caso podríamos decir que el Var paramétrico puede ser una fuente de información para calcular las posibles pérdidas de nuestro portafolio y generar simulaciones a futuro, al igual y diversos cálculos para poder optimizar de mejor manera y rentabilizar nuestro portafolio y estar preparados ante posibles escenarios que pueden afectar de manera drástica.\n",
    " \n",
    " \n",
    "\n"
   ]
  }
 ],
 "metadata": {
  "kernelspec": {
   "display_name": "Python 3 (ipykernel)",
   "language": "python",
   "name": "python3"
  },
  "language_info": {
   "codemirror_mode": {
    "name": "ipython",
    "version": 3
   },
   "file_extension": ".py",
   "mimetype": "text/x-python",
   "name": "python",
   "nbconvert_exporter": "python",
   "pygments_lexer": "ipython3",
   "version": "3.8.12"
  }
 },
 "nbformat": 4,
 "nbformat_minor": 5
}
